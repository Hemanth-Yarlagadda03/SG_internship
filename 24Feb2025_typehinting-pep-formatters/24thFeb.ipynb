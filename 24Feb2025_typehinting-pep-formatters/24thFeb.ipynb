{
  "cells": [
    {
      "cell_type": "markdown",
      "metadata": {
        "id": "p8cJApd4YkDP"
      },
      "source": [
        "# Type Hints and Annontations"
      ]
    },
    {
      "cell_type": "markdown",
      "metadata": {
        "id": "YvMdJZqLr5Vj"
      },
      "source": [
        "### Type Hinting For Builtin Types"
      ]
    },
    {
      "cell_type": "code",
      "execution_count": 1,
      "metadata": {
        "colab": {
          "base_uri": "https://localhost:8080/"
        },
        "id": "9ct7nmctYi0r",
        "outputId": "1a0711f8-5f80-467b-8af7-10512aee1786"
      },
      "outputs": [
        {
          "name": "stdout",
          "output_type": "stream",
          "text": [
            "The sum of 10 and 20 is 30\n"
          ]
        }
      ],
      "source": [
        "def add(x: int, y: int) -> int:\n",
        "    return x + y\n",
        "\n",
        "\n",
        "def main():\n",
        "    print(f\"The sum of 10 and 20 is {add(10, 20)}\")\n",
        "\n",
        "\n",
        "if __name__ == \"__main__\":\n",
        "    main()"
      ]
    },
    {
      "cell_type": "code",
      "execution_count": 2,
      "metadata": {
        "colab": {
          "base_uri": "https://localhost:8080/"
        },
        "id": "CCnOX58RYedX",
        "outputId": "91a90116-1e5d-4ada-ad93-600d56d4fd5e"
      },
      "outputs": [
        {
          "name": "stdout",
          "output_type": "stream",
          "text": [
            "27\n"
          ]
        }
      ],
      "source": [
        "def get_length(s: str) -> int:\n",
        "    return len(s)\n",
        "\n",
        "\n",
        "def main() -> None:\n",
        "    print(get_length(\"Hemanth Lakshman Yarlagadda\"))\n",
        "\n",
        "\n",
        "if __name__ == \"__main__\":\n",
        "    main()\n"
      ]
    },
    {
      "cell_type": "markdown",
      "metadata": {
        "id": "-_GDISNDsoF_"
      },
      "source": [
        "### Using Optional for Nullable Types"
      ]
    },
    {
      "cell_type": "code",
      "execution_count": 3,
      "metadata": {
        "colab": {
          "base_uri": "https://localhost:8080/"
        },
        "id": "g2LIDcQ3rRHr",
        "outputId": "ec925879-7430-4494-fe86-39ed1e292a7f"
      },
      "outputs": [
        {
          "name": "stdout",
          "output_type": "stream",
          "text": [
            "UserID 1: Hem\n",
            "UserID 3: Lak\n",
            "UserID 5: None\n"
          ]
        }
      ],
      "source": [
        "from typing import Optional\n",
        "\n",
        "def find_user(user_id: int) -> Optional[str]:\n",
        "    users = {1: \"Hem\", 2: \"anth\", 3: \"Lak\"}\n",
        "    return users.get(user_id)\n",
        "\n",
        "\n",
        "def main() -> None:\n",
        "    print(f\"UserID 1: {find_user(1)}\")\n",
        "    print(f\"UserID 3: {find_user(3)}\")\n",
        "    print(f\"UserID 5: {find_user(5)}\")\n",
        "\n",
        "\n",
        "if __name__ == \"__main__\":\n",
        "    main()\n"
      ]
    },
    {
      "cell_type": "markdown",
      "metadata": {
        "id": "mVLrn7PotEVM"
      },
      "source": [
        "### Using Union for Multiple Possible Types"
      ]
    },
    {
      "cell_type": "code",
      "execution_count": 4,
      "metadata": {
        "colab": {
          "base_uri": "https://localhost:8080/"
        },
        "id": "g2jFqhgKtHDE",
        "outputId": "60ab256d-8986-4235-b86b-d9704d223a72"
      },
      "outputs": [
        {
          "name": "stdout",
          "output_type": "stream",
          "text": [
            "Square of 7: 25\n",
            "Square of 2.546: 6.25\n"
          ]
        }
      ],
      "source": [
        "from typing import Union\n",
        "\n",
        "def square(n: Union[int, float]) -> float:\n",
        "    return n * n\n",
        "\n",
        "\n",
        "def main() -> None:\n",
        "    print(f\"Square of 7: {square(5)}\")\n",
        "    print(f\"Square of 2.546: {square(2.5)}\")\n",
        "\n",
        "\n",
        "if __name__ == \"__main__\":\n",
        "    main()\n"
      ]
    },
    {
      "cell_type": "markdown",
      "metadata": {
        "id": "3WF3hXc7uRdj"
      },
      "source": [
        "### Working with Tuples"
      ]
    },
    {
      "cell_type": "code",
      "execution_count": 5,
      "metadata": {
        "colab": {
          "base_uri": "https://localhost:8080/"
        },
        "id": "4T-m66etuQYB",
        "outputId": "74872694-cf37-437e-d634-32921133fddf"
      },
      "outputs": [
        {
          "name": "stdout",
          "output_type": "stream",
          "text": [
            "Coordinates: Latitude=17.434284, Longitude=78.376361\n"
          ]
        }
      ],
      "source": [
        "from typing import Tuple\n",
        "\n",
        "def get_coordinates() -> Tuple[float, float]:\n",
        "    return 17.434284, 78.376361\n",
        "\n",
        "\n",
        "def main() -> None:\n",
        "    cord = get_coordinates()\n",
        "    print(f\"Coordinates: Latitude={cord[0]}, Longitude={cord[1]}\")\n",
        "\n",
        "\n",
        "if __name__ == \"__main__\":\n",
        "    main()\n"
      ]
    },
    {
      "cell_type": "markdown",
      "metadata": {
        "id": "8xhf1mHlvWI7"
      },
      "source": [
        "### Working with Lists, Sets, and Dictionaries"
      ]
    },
    {
      "cell_type": "code",
      "execution_count": 6,
      "metadata": {
        "colab": {
          "base_uri": "https://localhost:8080/"
        },
        "id": "qbHHEb95vnRU",
        "outputId": "e524ff13-21a2-410b-99f8-df261bd982c9"
      },
      "outputs": [
        {
          "name": "stdout",
          "output_type": "stream",
          "text": [
            "Even numbers: [2, 4, 6, 8]\n",
            "User ids: {'Hem': 1, 'Anth': 2, 'Lak': 3}\n"
          ]
        }
      ],
      "source": [
        "from typing import List, Dict\n",
        "\n",
        "def get_even_numbers(numbers: List[int]) -> List[int]:\n",
        "    return [n for n in numbers if n % 2 == 0]\n",
        "\n",
        "\n",
        "def user_id() -> Dict[str, float]:\n",
        "    return {\"Hem\": 1, \"Anth\": 2, \"Lak\": 3}\n",
        "\n",
        "\n",
        "def main() -> None:\n",
        "    print(f\"Even numbers: {get_even_numbers([1, 2, 3, 4, 5, 6, 7, 8, 9])}\")\n",
        "    print(f\"User ids: {user_id()}\")\n",
        "\n",
        "\n",
        "if __name__ == \"__main__\":\n",
        "    main()\n"
      ]
    },
    {
      "cell_type": "markdown",
      "metadata": {
        "id": "jC6yyIMR09xN"
      },
      "source": [
        "### Working with Callable"
      ]
    },
    {
      "cell_type": "code",
      "execution_count": 7,
      "metadata": {
        "colab": {
          "base_uri": "https://localhost:8080/"
        },
        "id": "krhExEH20erX",
        "outputId": "a2dfc257-54bc-4b41-cdd2-dc23dc14f951"
      },
      "outputs": [
        {
          "name": "stdout",
          "output_type": "stream",
          "text": [
            "Executing add function: 15\n",
            "Executing sub function: -5\n"
          ]
        }
      ],
      "source": [
        "from typing import Callable\n",
        "\n",
        "def execute_function(func: Callable[[int, int], int], x: int, y: int) -> int:\n",
        "    return func(x, y)\n",
        "\n",
        "\n",
        "def add(a: int, b: int) -> int:\n",
        "    return a + b\n",
        "\n",
        "\n",
        "def sub(a: int, b: int) -> int:\n",
        "    return a - b\n",
        "\n",
        "\n",
        "def main() -> None:\n",
        "    print(f\"Executing add function: {execute_function(add, 5, 10)}\")\n",
        "    print(f\"Executing sub function: {execute_function(sub, 5, 10)}\")\n",
        "\n",
        "if __name__ == \"__main__\":\n",
        "    main()\n"
      ]
    },
    {
      "cell_type": "markdown",
      "metadata": {
        "id": "dTf2w1uN2Em1"
      },
      "source": [
        "### Working with Any"
      ]
    },
    {
      "cell_type": "code",
      "execution_count": 8,
      "metadata": {
        "colab": {
          "base_uri": "https://localhost:8080/"
        },
        "id": "YNlKtFrh2HLb",
        "outputId": "fd65d323-f513-417e-ef1e-0ac1b8845606"
      },
      "outputs": [
        {
          "name": "stdout",
          "output_type": "stream",
          "text": [
            "Name: Hem\n",
            "Age: 21\n",
            "Scores: [90, 85, 88]\n"
          ]
        }
      ],
      "source": [
        "from typing import Any\n",
        "\n",
        "def get_value(data: Dict[str, Any], key: str) -> Any:\n",
        "    return data.get(key)\n",
        "\n",
        "\n",
        "def main() -> None:\n",
        "    dict = {\"name\": \"Hem\", \"age\": 21, \"scores\": [90, 85, 88]}\n",
        "    print(f\"Name: {get_value(dict, 'name')}\")\n",
        "    print(f\"Age: {get_value(dict, 'age')}\")\n",
        "    print(f\"Scores: {get_value(dict, 'scores')}\")\n",
        "\n",
        "\n",
        "if __name__ == \"__main__\":\n",
        "    main()\n"
      ]
    },
    {
      "cell_type": "markdown",
      "metadata": {
        "id": "JppoTgBE22f0"
      },
      "source": [
        "### Classes and Type Hints"
      ]
    },
    {
      "cell_type": "code",
      "execution_count": 32,
      "metadata": {
        "colab": {
          "base_uri": "https://localhost:8080/"
        },
        "id": "YQkHeW5X3AS5",
        "outputId": "0dacd51d-90e1-4ade-e904-df710bea4aec"
      },
      "outputs": [
        {
          "name": "stdout",
          "output_type": "stream",
          "text": [
            "Student: Hem\n",
            "Average: 90.250\n"
          ]
        }
      ],
      "source": [
        "from typing import List\n",
        "\n",
        "class Student:\n",
        "\n",
        "    def __init__(self, name: str, grades: List[int]) -> None:\n",
        "        self.name = name\n",
        "        self.grades = grades\n",
        "\n",
        "    def get_average(self) -> float:\n",
        "        return sum(self.grades) / len(self.grades)\n",
        "\n",
        "\n",
        "def main() -> None:\n",
        "\n",
        "    student = Student(\"Hem\", [90, 86, 90, 95])\n",
        "    print(f\"Student: {student.name}\")\n",
        "    print(f\"Average: {student.get_average():.3f}\")\n",
        "\n",
        "\n",
        "if __name__ == \"__main__\":\n",
        "    main()\n"
      ]
    }
  ],
  "metadata": {
    "colab": {
      "provenance": []
    },
    "kernelspec": {
      "display_name": "Python 3",
      "name": "python3"
    },
    "language_info": {
      "codemirror_mode": {
        "name": "ipython",
        "version": 3
      },
      "file_extension": ".py",
      "mimetype": "text/x-python",
      "name": "python",
      "nbconvert_exporter": "python",
      "pygments_lexer": "ipython3",
      "version": "3.10.2"
    }
  },
  "nbformat": 4,
  "nbformat_minor": 0
}
