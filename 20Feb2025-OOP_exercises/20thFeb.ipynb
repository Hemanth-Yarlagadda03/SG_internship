{
  "nbformat": 4,
  "nbformat_minor": 0,
  "metadata": {
    "colab": {
      "provenance": []
    },
    "kernelspec": {
      "name": "python3",
      "display_name": "Python 3"
    },
    "language_info": {
      "name": "python"
    }
  },
  "cells": [
    {
      "cell_type": "markdown",
      "source": [
        "#LIST EXERCISES\n",
        "\n",
        "\n",
        "*OOPS Exercises are preceded by some list and array exercises*"
      ],
      "metadata": {
        "id": "O4Ile24moTf2"
      }
    },
    {
      "cell_type": "markdown",
      "source": [],
      "metadata": {
        "id": "Gn4NWxDw_KOl"
      }
    },
    {
      "cell_type": "code",
      "execution_count": 1,
      "metadata": {
        "colab": {
          "base_uri": "https://localhost:8080/"
        },
        "id": "nhHg0ECkoQnl",
        "outputId": "c79b2c24-b45b-4889-a1ca-6d3634b8d754"
      },
      "outputs": [
        {
          "output_type": "stream",
          "name": "stdout",
          "text": [
            "2 3 3 3 3 3 4 4 5 55 5 3 5 7 2 4 2 58 5 3 \n",
            "7\n"
          ]
        }
      ],
      "source": [
        "#find number of unique elements in list\n",
        "a=map(int,input().split())\n",
        "b=set(a)\n",
        "print(len(b))"
      ]
    },
    {
      "cell_type": "code",
      "source": [
        "# find product of elements in a list excluding duplicates\n",
        "a=map(int,input().split())\n",
        "b=set(a)\n",
        "res=1\n",
        "for i in b:\n",
        "  res*=i\n",
        "print(res)"
      ],
      "metadata": {
        "colab": {
          "base_uri": "https://localhost:8080/"
        },
        "id": "SIVjfrSAsFwW",
        "outputId": "390b79c3-a1aa-44d0-e7e2-547a8f5a2cbe"
      },
      "execution_count": 2,
      "outputs": [
        {
          "output_type": "stream",
          "name": "stdout",
          "text": [
            "1 2 3 4 5 6 \n",
            "720\n"
          ]
        }
      ]
    },
    {
      "cell_type": "code",
      "source": [
        "# Extract Elements withb frequency greater than k\n",
        "a=map(int,input().split())\n",
        "k=int(input())\n",
        "unique=[]\n",
        "freq={}\n",
        "res=[]\n",
        "\n",
        "for i in a:\n",
        "  if i not in unique:\n",
        "    unique.append(i)\n",
        "    freq[i]=1\n",
        "\n",
        "  else:\n",
        "    freq[i]+=1\n",
        "  if freq[i]==k+1:\n",
        "    res.append(i)\n",
        "print(res)"
      ],
      "metadata": {
        "colab": {
          "base_uri": "https://localhost:8080/"
        },
        "id": "DMCEIIIXsnL1",
        "outputId": "72055ba4-582a-4935-8fa4-8d75a48806cd"
      },
      "execution_count": 12,
      "outputs": [
        {
          "output_type": "stream",
          "name": "stdout",
          "text": [
            "2 2 2 3 3 3 4 4 5 5  6 6\n",
            "2\n",
            "[2, 3]\n"
          ]
        }
      ]
    },
    {
      "cell_type": "code",
      "source": [
        "#check if List cotain elements in a range\n",
        "a=map(int,input().split())\n",
        "l,u=map(int,input().split())\n",
        "c=True\n",
        "for i in a:\n",
        "  if i>u or i<l:\n",
        "    c=False\n",
        "  else:\n",
        "    continue\n",
        "print(c)\n"
      ],
      "metadata": {
        "colab": {
          "base_uri": "https://localhost:8080/"
        },
        "id": "o31uUND0untB",
        "outputId": "4ab417b3-0db5-4373-c1fa-673d3588d883"
      },
      "execution_count": 17,
      "outputs": [
        {
          "output_type": "stream",
          "name": "stdout",
          "text": [
            "1 2 3 4 5 6\n",
            "0 10\n",
            "True\n"
          ]
        }
      ]
    },
    {
      "cell_type": "code",
      "source": [
        "# if a list has three consecutive common numbers\n",
        "a=map(int,input().split())\n",
        "a=list(a)\n",
        "for i in range(len(a) - 2):\n",
        "    if a[i] == a[i + 1] == a[i + 2]:\n",
        "        print(\"Found\")\n",
        "        break\n",
        "else:\n",
        "    print(\"Not Found\")"
      ],
      "metadata": {
        "colab": {
          "base_uri": "https://localhost:8080/"
        },
        "id": "L4UsL1IfxEKR",
        "outputId": "cc22678b-11ef-4581-8698-dcada11d85a7"
      },
      "execution_count": 20,
      "outputs": [
        {
          "output_type": "stream",
          "name": "stdout",
          "text": [
            "1 1 1\n",
            "Found\n"
          ]
        }
      ]
    },
    {
      "cell_type": "code",
      "source": [
        "#find the Strongest Neighbour\n",
        "n = [1, 2, 3, 4, 5]\n",
        "res = []\n",
        "\n",
        "for i in range(len(n) - 1):\n",
        "    res.append(max(n[i], n[i + 1]))\n",
        "print(res)\n"
      ],
      "metadata": {
        "colab": {
          "base_uri": "https://localhost:8080/"
        },
        "id": "4BIFCOAcxoWY",
        "outputId": "722f1e1b-954c-4003-d0ad-f3b9ea48964b"
      },
      "execution_count": 21,
      "outputs": [
        {
          "output_type": "stream",
          "name": "stdout",
          "text": [
            "[2, 3, 4, 5]\n"
          ]
        }
      ]
    },
    {
      "cell_type": "code",
      "source": [
        "#remove all instances of a elemenet in a list\n",
        "a=map(int,input().split())\n",
        "a=list(a)\n",
        "k=int(input())\n",
        "for i in a:\n",
        "  if i==k:\n",
        "    a.remove(i)\n",
        "print(a)\n"
      ],
      "metadata": {
        "colab": {
          "base_uri": "https://localhost:8080/"
        },
        "id": "bhkmryhtycSN",
        "outputId": "d4425534-402a-4aab-f5e2-8bd0b69f7b95"
      },
      "execution_count": 24,
      "outputs": [
        {
          "output_type": "stream",
          "name": "stdout",
          "text": [
            "1 2 1 2 1 2 3\n",
            "1\n",
            "[2, 2, 2, 3]\n"
          ]
        }
      ]
    },
    {
      "cell_type": "code",
      "source": [
        "#get the last n elements form a list\n",
        "a=map(int,input().split())\n",
        "a=list(a)\n",
        "a.reverse()\n",
        "n=int(input())\n",
        "for i in range(n):\n",
        "  print(a[i])\n"
      ],
      "metadata": {
        "colab": {
          "base_uri": "https://localhost:8080/"
        },
        "id": "CJh49k780ev5",
        "outputId": "87b9e844-249f-4f81-bac2-c334024f3d36"
      },
      "execution_count": 28,
      "outputs": [
        {
          "output_type": "stream",
          "name": "stdout",
          "text": [
            "1 2 3 4 5 6\n",
            "2\n",
            "6\n",
            "5\n"
          ]
        }
      ]
    },
    {
      "cell_type": "markdown",
      "source": [
        "#Numpy Array Exercises"
      ],
      "metadata": {
        "id": "QM2koO0mxPWr"
      }
    },
    {
      "cell_type": "code",
      "source": [
        "#Create a 2d array with 1 on the border and 0 inside\n",
        "\n",
        "import numpy as np\n",
        "x = np.ones((5, 5))\n",
        "print(x)\n",
        "print()\n",
        "x[1:-1, 1:-1] = 0\n",
        "print(x)\n"
      ],
      "metadata": {
        "colab": {
          "base_uri": "https://localhost:8080/"
        },
        "id": "U8LbSn1rxmwe",
        "outputId": "063c8cee-bc83-4db8-9c7c-d68c49af0858"
      },
      "execution_count": 82,
      "outputs": [
        {
          "output_type": "stream",
          "name": "stdout",
          "text": [
            "[[1. 1. 1. 1. 1.]\n",
            " [1. 1. 1. 1. 1.]\n",
            " [1. 1. 1. 1. 1.]\n",
            " [1. 1. 1. 1. 1.]\n",
            " [1. 1. 1. 1. 1.]]\n",
            "\n",
            "[[1. 1. 1. 1. 1.]\n",
            " [1. 0. 0. 0. 1.]\n",
            " [1. 0. 0. 0. 1.]\n",
            " [1. 0. 0. 0. 1.]\n",
            " [1. 1. 1. 1. 1.]]\n"
          ]
        }
      ]
    },
    {
      "cell_type": "code",
      "source": [
        "#create a chess board with 1s and 0s\n",
        "\n",
        "x = np.zeros((8, 8), dtype=int)\n",
        "x[1::2, ::2] = 1\n",
        "x[::2, 1::2] = 1\n",
        "print(x)\n"
      ],
      "metadata": {
        "colab": {
          "base_uri": "https://localhost:8080/"
        },
        "id": "S9EmeRRfyijr",
        "outputId": "cdecf2ae-c151-4a37-d463-f46746327517"
      },
      "execution_count": 89,
      "outputs": [
        {
          "output_type": "stream",
          "name": "stdout",
          "text": [
            "[[0 1 0 1 0 1 0 1]\n",
            " [1 0 1 0 1 0 1 0]\n",
            " [0 1 0 1 0 1 0 1]\n",
            " [1 0 1 0 1 0 1 0]\n",
            " [0 1 0 1 0 1 0 1]\n",
            " [1 0 1 0 1 0 1 0]\n",
            " [0 1 0 1 0 1 0 1]\n",
            " [1 0 1 0 1 0 1 0]]\n"
          ]
        }
      ]
    },
    {
      "cell_type": "code",
      "source": [
        "#covert fahrenheit to celisus\n",
        "\n",
        "fvalues = [0, 12, 45.21, 34, 99.91, 32]\n",
        "F = np.array(fvalues)\n",
        "print(np.round((5 * F / 9 - 5 * 32 / 9), 2))\n"
      ],
      "metadata": {
        "colab": {
          "base_uri": "https://localhost:8080/"
        },
        "id": "gTSTYHRUza8-",
        "outputId": "a380fe56-fc44-4f6c-8cba-1c4bd7efbeb8"
      },
      "execution_count": 90,
      "outputs": [
        {
          "output_type": "stream",
          "name": "stdout",
          "text": [
            "[-17.78 -11.11   7.34   1.11  37.73   0.  ]\n"
          ]
        }
      ]
    },
    {
      "cell_type": "code",
      "source": [
        "#Change the dimension of an array\n",
        "\n",
        "x = np.array([1, 2, 3, 4, 5, 6, 7, 8, 9])\n",
        "x.shape = (3, 3)\n",
        "print(x)\n"
      ],
      "metadata": {
        "colab": {
          "base_uri": "https://localhost:8080/"
        },
        "id": "E45o4FA_2ApC",
        "outputId": "3c77c259-6da7-470c-dc25-5bad7685f6db"
      },
      "execution_count": 92,
      "outputs": [
        {
          "output_type": "stream",
          "name": "stdout",
          "text": [
            "[[1 2 3]\n",
            " [4 5 6]\n",
            " [7 8 9]]\n"
          ]
        }
      ]
    },
    {
      "cell_type": "code",
      "source": [
        "#compute block sums of size k\n",
        "\n",
        "arra1 = np.ones((25, 25))\n",
        "k=int(input())\n",
        "\n",
        "print(\"Original array:\")\n",
        "print(arra1)\n",
        "\n",
        "result = arra1.reshape(25//k, k, 25//k, k).sum(axis=(1, 3))\n",
        "\n",
        "print(result)\n"
      ],
      "metadata": {
        "colab": {
          "base_uri": "https://localhost:8080/"
        },
        "id": "SQgfTxGY3H85",
        "outputId": "90937c31-d12a-40a5-e419-f65a1cfd16cb"
      },
      "execution_count": 100,
      "outputs": [
        {
          "output_type": "stream",
          "name": "stdout",
          "text": [
            "5\n",
            "Original array:\n",
            "[[1. 1. 1. 1. 1. 1. 1. 1. 1. 1. 1. 1. 1. 1. 1. 1. 1. 1. 1. 1. 1. 1. 1. 1.\n",
            "  1.]\n",
            " [1. 1. 1. 1. 1. 1. 1. 1. 1. 1. 1. 1. 1. 1. 1. 1. 1. 1. 1. 1. 1. 1. 1. 1.\n",
            "  1.]\n",
            " [1. 1. 1. 1. 1. 1. 1. 1. 1. 1. 1. 1. 1. 1. 1. 1. 1. 1. 1. 1. 1. 1. 1. 1.\n",
            "  1.]\n",
            " [1. 1. 1. 1. 1. 1. 1. 1. 1. 1. 1. 1. 1. 1. 1. 1. 1. 1. 1. 1. 1. 1. 1. 1.\n",
            "  1.]\n",
            " [1. 1. 1. 1. 1. 1. 1. 1. 1. 1. 1. 1. 1. 1. 1. 1. 1. 1. 1. 1. 1. 1. 1. 1.\n",
            "  1.]\n",
            " [1. 1. 1. 1. 1. 1. 1. 1. 1. 1. 1. 1. 1. 1. 1. 1. 1. 1. 1. 1. 1. 1. 1. 1.\n",
            "  1.]\n",
            " [1. 1. 1. 1. 1. 1. 1. 1. 1. 1. 1. 1. 1. 1. 1. 1. 1. 1. 1. 1. 1. 1. 1. 1.\n",
            "  1.]\n",
            " [1. 1. 1. 1. 1. 1. 1. 1. 1. 1. 1. 1. 1. 1. 1. 1. 1. 1. 1. 1. 1. 1. 1. 1.\n",
            "  1.]\n",
            " [1. 1. 1. 1. 1. 1. 1. 1. 1. 1. 1. 1. 1. 1. 1. 1. 1. 1. 1. 1. 1. 1. 1. 1.\n",
            "  1.]\n",
            " [1. 1. 1. 1. 1. 1. 1. 1. 1. 1. 1. 1. 1. 1. 1. 1. 1. 1. 1. 1. 1. 1. 1. 1.\n",
            "  1.]\n",
            " [1. 1. 1. 1. 1. 1. 1. 1. 1. 1. 1. 1. 1. 1. 1. 1. 1. 1. 1. 1. 1. 1. 1. 1.\n",
            "  1.]\n",
            " [1. 1. 1. 1. 1. 1. 1. 1. 1. 1. 1. 1. 1. 1. 1. 1. 1. 1. 1. 1. 1. 1. 1. 1.\n",
            "  1.]\n",
            " [1. 1. 1. 1. 1. 1. 1. 1. 1. 1. 1. 1. 1. 1. 1. 1. 1. 1. 1. 1. 1. 1. 1. 1.\n",
            "  1.]\n",
            " [1. 1. 1. 1. 1. 1. 1. 1. 1. 1. 1. 1. 1. 1. 1. 1. 1. 1. 1. 1. 1. 1. 1. 1.\n",
            "  1.]\n",
            " [1. 1. 1. 1. 1. 1. 1. 1. 1. 1. 1. 1. 1. 1. 1. 1. 1. 1. 1. 1. 1. 1. 1. 1.\n",
            "  1.]\n",
            " [1. 1. 1. 1. 1. 1. 1. 1. 1. 1. 1. 1. 1. 1. 1. 1. 1. 1. 1. 1. 1. 1. 1. 1.\n",
            "  1.]\n",
            " [1. 1. 1. 1. 1. 1. 1. 1. 1. 1. 1. 1. 1. 1. 1. 1. 1. 1. 1. 1. 1. 1. 1. 1.\n",
            "  1.]\n",
            " [1. 1. 1. 1. 1. 1. 1. 1. 1. 1. 1. 1. 1. 1. 1. 1. 1. 1. 1. 1. 1. 1. 1. 1.\n",
            "  1.]\n",
            " [1. 1. 1. 1. 1. 1. 1. 1. 1. 1. 1. 1. 1. 1. 1. 1. 1. 1. 1. 1. 1. 1. 1. 1.\n",
            "  1.]\n",
            " [1. 1. 1. 1. 1. 1. 1. 1. 1. 1. 1. 1. 1. 1. 1. 1. 1. 1. 1. 1. 1. 1. 1. 1.\n",
            "  1.]\n",
            " [1. 1. 1. 1. 1. 1. 1. 1. 1. 1. 1. 1. 1. 1. 1. 1. 1. 1. 1. 1. 1. 1. 1. 1.\n",
            "  1.]\n",
            " [1. 1. 1. 1. 1. 1. 1. 1. 1. 1. 1. 1. 1. 1. 1. 1. 1. 1. 1. 1. 1. 1. 1. 1.\n",
            "  1.]\n",
            " [1. 1. 1. 1. 1. 1. 1. 1. 1. 1. 1. 1. 1. 1. 1. 1. 1. 1. 1. 1. 1. 1. 1. 1.\n",
            "  1.]\n",
            " [1. 1. 1. 1. 1. 1. 1. 1. 1. 1. 1. 1. 1. 1. 1. 1. 1. 1. 1. 1. 1. 1. 1. 1.\n",
            "  1.]\n",
            " [1. 1. 1. 1. 1. 1. 1. 1. 1. 1. 1. 1. 1. 1. 1. 1. 1. 1. 1. 1. 1. 1. 1. 1.\n",
            "  1.]]\n",
            "[[25. 25. 25. 25. 25.]\n",
            " [25. 25. 25. 25. 25.]\n",
            " [25. 25. 25. 25. 25.]\n",
            " [25. 25. 25. 25. 25.]\n",
            " [25. 25. 25. 25. 25.]]\n"
          ]
        }
      ]
    },
    {
      "cell_type": "code",
      "source": [
        "#Set zero to lower triangles along the last two axes of a three-dimensional of a given array\n",
        "\n",
        "\n",
        "a= np.ones((1, 8, 8))\n",
        "print(a)\n",
        "result = np.triu(a, k=1)\n",
        "print(result)\n"
      ],
      "metadata": {
        "colab": {
          "base_uri": "https://localhost:8080/"
        },
        "id": "dXho5x7F4PHb",
        "outputId": "895d3322-a82d-48b5-b898-6531a3cadd76"
      },
      "execution_count": 101,
      "outputs": [
        {
          "output_type": "stream",
          "name": "stdout",
          "text": [
            "[[[1. 1. 1. 1. 1. 1. 1. 1.]\n",
            "  [1. 1. 1. 1. 1. 1. 1. 1.]\n",
            "  [1. 1. 1. 1. 1. 1. 1. 1.]\n",
            "  [1. 1. 1. 1. 1. 1. 1. 1.]\n",
            "  [1. 1. 1. 1. 1. 1. 1. 1.]\n",
            "  [1. 1. 1. 1. 1. 1. 1. 1.]\n",
            "  [1. 1. 1. 1. 1. 1. 1. 1.]\n",
            "  [1. 1. 1. 1. 1. 1. 1. 1.]]]\n",
            "\n",
            "Result:\n",
            "[[[0. 1. 1. 1. 1. 1. 1. 1.]\n",
            "  [0. 0. 1. 1. 1. 1. 1. 1.]\n",
            "  [0. 0. 0. 1. 1. 1. 1. 1.]\n",
            "  [0. 0. 0. 0. 1. 1. 1. 1.]\n",
            "  [0. 0. 0. 0. 0. 1. 1. 1.]\n",
            "  [0. 0. 0. 0. 0. 0. 1. 1.]\n",
            "  [0. 0. 0. 0. 0. 0. 0. 1.]\n",
            "  [0. 0. 0. 0. 0. 0. 0. 0.]]]\n"
          ]
        }
      ]
    },
    {
      "cell_type": "markdown",
      "source": [
        "# OOPS CONCEPTS- Exercises"
      ],
      "metadata": {
        "id": "lVCy76am1wBh"
      }
    },
    {
      "cell_type": "code",
      "source": [
        "# class and objects\n",
        "class Student:\n",
        "    def __init__(self,name, grade):\n",
        "        self.name = name\n",
        "        self.grade = grade\n",
        "\n",
        "    def display_info(self):  # Method\n",
        "        print(f\"{self.name} {self.grade}\")\n",
        "\n",
        "\n",
        "st1=Student(\"Hem\",9)\n",
        "st2=Student(\"Lak\",10)\n",
        "st1.display_info()\n",
        "st2.display_info()\n"
      ],
      "metadata": {
        "colab": {
          "base_uri": "https://localhost:8080/"
        },
        "id": "dlKZH59_1vLu",
        "outputId": "37615aa9-2696-4a64-8d7e-1994edf4f7d6"
      },
      "execution_count": 33,
      "outputs": [
        {
          "output_type": "stream",
          "name": "stdout",
          "text": [
            "Hem 9\n",
            "Lak 10\n"
          ]
        }
      ]
    },
    {
      "cell_type": "code",
      "source": [
        "#create a library management system\n",
        "class book:\n",
        "  def __init__(self,name,author,copies):\n",
        "    self.name=name\n",
        "    self.author=author\n",
        "    self.copies=copies\n",
        "  def __str__(self):\n",
        "        return f\"{self.name} by {self.author} -{self.copies}\"\n",
        "class library:\n",
        "  def __init__(self):\n",
        "    self.books=[]\n",
        "  def add_book(self, book):\n",
        "        self.books.append(book)\n",
        "\n",
        "  def display_books(self):\n",
        "        for book in self.books:\n",
        "            print(book)\n",
        "\n",
        "  def borrow_book(self, name):\n",
        "    for book in self.books:\n",
        "      if book.name == name and book.copies > 0:\n",
        "        book.copies -= 1\n",
        "        print(f\"You borrowed '{name}'.\")\n",
        "        return\n",
        "    print(f\"'{name}' is not available.\")\n",
        "\n",
        "def main():\n",
        "  lib=library()\n",
        "  lib.add_book(book(\"1984\",\"George Orwell\",5))\n",
        "  lib.add_book(book(\"Metamorphosis\",\"Kafka\",1))\n",
        "  lib.add_book(book(\"War and Peace\",\"Leo Tolstoy\",1))\n",
        "  lib.display_books()\n",
        "  lib.borrow_book(\"1984\")\n",
        "  lib.borrow_book(\"War and Peace\")\n",
        "  lib.borrow_book(\"War and Peace\")\n",
        "\n",
        "\n",
        "\n",
        "if __name__==\"__main__\":\n",
        "  main()\n",
        "\n",
        "\n",
        "\n"
      ],
      "metadata": {
        "colab": {
          "base_uri": "https://localhost:8080/"
        },
        "id": "nZgm6P7EC_ur",
        "outputId": "b6ea33d2-a3a2-4759-bcf3-1ab6ac7909da"
      },
      "execution_count": 37,
      "outputs": [
        {
          "output_type": "stream",
          "name": "stdout",
          "text": [
            "1984 by George Orwell -5\n",
            "Metamorphosis by Kafka -1\n",
            "War and Peace by Leo Tolstoy -1\n",
            "You borrowed '1984'.\n",
            "You borrowed 'War and Peace'.\n",
            "'War and Peace' is not available.\n"
          ]
        }
      ]
    },
    {
      "cell_type": "code",
      "source": [
        "#encapsulation with a banking example\n",
        "\n",
        "class bank_account:\n",
        "  def __init__(self,name,balance):\n",
        "    self.__name=name\n",
        "    self.__balance=balance\n",
        "  def deposit(self,amount):\n",
        "    if amount<= 2000000:\n",
        "       self.__balance+=amount\n",
        "       print(f\"Deposited: {amount} rupees\")\n",
        "    else:\n",
        "      print(f\"Rupees {amount} is more than the deposit limit of 20,00,000 rupees \")\n",
        "  def withdraw(self,amount):\n",
        "    if amount<= 2000000 and  self.__balance-amount>=5000:\n",
        "       self.__balance-=amount\n",
        "       print(f\"Withdrawed ${amount}\")\n",
        "    elif amount>=2000000:\n",
        "      print(f\"{amount} is more than the withdrawal limit of 20,00,000 rupees \")\n",
        "    else:\n",
        "      print(f\"You need to maintain a mimimum of 5000 rupees\")\n",
        "  def get_balance(self):\n",
        "        return self.__balance\n",
        "\n",
        "def main():\n",
        "  acc1=bank_account(\"Hem\",5000)\n",
        "  acc1.deposit(100000)\n",
        "  acc1.withdraw(101000)\n",
        "  print(f\"{acc1.get_balance()} rupees\")\n",
        "\n",
        "\n",
        "if __name__==\"__main__\":\n",
        "  main()"
      ],
      "metadata": {
        "colab": {
          "base_uri": "https://localhost:8080/"
        },
        "id": "0kNUize0E_hQ",
        "outputId": "ebd9ac65-15aa-4e1d-e19f-16593280d6df"
      },
      "execution_count": 41,
      "outputs": [
        {
          "output_type": "stream",
          "name": "stdout",
          "text": [
            "Deposited: 100000 rupees\n",
            "You need to maintain a mimimum of 5000 rupees\n",
            "105000 rupees\n"
          ]
        }
      ]
    },
    {
      "cell_type": "code",
      "source": [
        "#inheritance employee-manager\n",
        "class Employee:\n",
        "  def __init__(self,name,salary):\n",
        "    self.name=name\n",
        "    self.salary=salary\n",
        "  def display_details(self):\n",
        "    print(f\"Employee: {self.name}, Salary: {self.salary}\")\n",
        "\n",
        "class Manager(Employee):\n",
        "  def __init__(self,name,salary,department):\n",
        "    super().__init__(name, salary)\n",
        "    self.department=department\n",
        "  def display_details(self):\n",
        "     super().display_details()\n",
        "     print(f\"{self.department}\")\n",
        "\n",
        "\n",
        "def main():\n",
        "  emp1=Employee(\"Hem\",100000)\n",
        "  emp2=Employee(\"Lak\",50000)\n",
        "  man1=Manager(\"Hemanth\",150000,\"Finance\")\n",
        "  emp1.display_details()\n",
        "  man1.display_details()\n",
        "\n",
        "\n",
        "if __name__==\"__main__\":\n",
        "  main()\n",
        "\n",
        "\n"
      ],
      "metadata": {
        "colab": {
          "base_uri": "https://localhost:8080/"
        },
        "id": "61-ymchiKtqP",
        "outputId": "260dd8f2-d197-4873-f487-d76d017d79d9"
      },
      "execution_count": 42,
      "outputs": [
        {
          "output_type": "stream",
          "name": "stdout",
          "text": [
            "Employee: Hem, Salary: 100000\n",
            "Employee: Hemanth, Salary: 150000\n",
            "Finance\n"
          ]
        }
      ]
    },
    {
      "cell_type": "code",
      "source": [
        "#Method Overiding (Polymorphism)\n",
        "class animal:\n",
        "  def speak(self):\n",
        "    return \"Sound!\"\n",
        "class dog(animal):\n",
        "    def speak(self):\n",
        "        return \"Bark!\"\n",
        "class cat(animal):\n",
        "    def speak(self):\n",
        "        return \"Meow!\"\n",
        "\n",
        "animals = [animal(),dog(), cat()]\n",
        "for animal in animals:\n",
        "    print(animal.speak())"
      ],
      "metadata": {
        "colab": {
          "base_uri": "https://localhost:8080/"
        },
        "id": "P9UzfPL6PztT",
        "outputId": "c23b54e6-30a7-4cba-e4f3-a7ba0cd5b9f9"
      },
      "execution_count": 47,
      "outputs": [
        {
          "output_type": "stream",
          "name": "stdout",
          "text": [
            "Sound!\n",
            "Bark!\n",
            "Meow!\n"
          ]
        }
      ]
    },
    {
      "cell_type": "code",
      "source": [
        "# Method Overloading (Polymorphism)\n",
        "import math\n",
        "class calc:\n",
        "    def add(self, *args):\n",
        "        return sum(args)\n",
        "    def mult(self,*args):\n",
        "       return math.prod(args)\n",
        "\n",
        "m = calc()\n",
        "print(m.add(2, 3))\n",
        "print(m.add(2, 3, 4))\n",
        "print(m.add(1, 2, 3, 4, 5))\n",
        "print(m.mult(2, 3))\n",
        "print(m.mult(2, 3, 4))\n",
        "print(m.mult(1, 2, 3, 4, 5))\n"
      ],
      "metadata": {
        "colab": {
          "base_uri": "https://localhost:8080/"
        },
        "id": "AU4caFr-YrN2",
        "outputId": "77b9d200-b57e-41fa-9c28-5048fbc2d8a1"
      },
      "execution_count": 48,
      "outputs": [
        {
          "output_type": "stream",
          "name": "stdout",
          "text": [
            "5\n",
            "9\n",
            "15\n",
            "6\n",
            "24\n",
            "120\n"
          ]
        }
      ]
    },
    {
      "cell_type": "code",
      "source": [
        "# Multiple Inheritance - Banking System\n",
        "\n",
        "class BankAccount:\n",
        "    def __init__(self, name, acc_no, balance):\n",
        "        self.__name = name\n",
        "        self.__acc_no = acc_no\n",
        "        self.__balance = balance\n",
        "\n",
        "    def deposit(self, amount):\n",
        "        if amount <= 2000000:\n",
        "            self.__balance += amount\n",
        "            print(f\"Deposited: {amount} rupees\")\n",
        "        else:\n",
        "            print(f\"Rupees {amount} is more than the deposit limit of 20,00,000 rupees.\")\n",
        "\n",
        "    def withdraw(self, amount):\n",
        "        if amount > 2000000:\n",
        "            print(f\"{amount} is more than the withdrawal limit of 20,00,000 rupees.\")\n",
        "        elif self.__balance - amount >= 5000:\n",
        "            self.__balance -= amount\n",
        "            print(f\"Withdrawn: {amount} rupees\")\n",
        "        else:\n",
        "            print(\"You need to maintain a minimum of 5000 rupees.\")\n",
        "\n",
        "    def get_balance(self):\n",
        "        return self.__balance\n",
        "\n",
        "    def get_account_details(self):\n",
        "        return f\"Account Holder: {self.__name}, Account No: {self.__acc_no}, Balance: {self.__balance} rupees\"\n",
        "\n",
        "\n",
        "class CreditAccount:\n",
        "    def __init__(self, credit_limit):\n",
        "        self.__credit_limit = credit_limit\n",
        "        self.__credit_used = 0\n",
        "\n",
        "    def use_credit(self, amount):\n",
        "        if amount <= self.__credit_limit - self.__credit_used:\n",
        "            self.__credit_used += amount\n",
        "            print(f\"Credit used: {amount} rupees\")\n",
        "        else:\n",
        "            print(\"Credit limit exceeded!\")\n",
        "\n",
        "    def pay_credit(self, amount):\n",
        "        if amount <= self.__credit_used:\n",
        "            self.__credit_used -= amount\n",
        "            print(f\"Credit payment of {amount} rupees successful.\")\n",
        "        else:\n",
        "            print(\"Invalid credit payment amount.\")\n",
        "\n",
        "    def get_credit_details(self):\n",
        "        return f\"Credit Limit: {self.__credit_limit} rupees, Credit Used: {self.__credit_used} rupees\"\n",
        "\n",
        "\n",
        "class Customer(BankAccount, CreditAccount):  # Multiple Inheritance\n",
        "    def __init__(self, name, acc_no, balance, credit_limit):\n",
        "        BankAccount.__init__(self, name, acc_no, balance)\n",
        "        CreditAccount.__init__(self, credit_limit)\n",
        "\n",
        "    def show_customer_details(self):\n",
        "        print(self.get_account_details())\n",
        "        print(self.get_credit_details())\n",
        "\n",
        "\n",
        "def main():\n",
        "    cust1 = Customer(\"Hem\", \"123456789\", 50000, 100000)\n",
        "\n",
        "    print(\"\\nInitial Details:\")\n",
        "    cust1.show_customer_details()\n",
        "\n",
        "    cust1.deposit(15000)\n",
        "    cust1.withdraw(10000)\n",
        "    cust1.use_credit(20000)\n",
        "    cust1.pay_credit(5000)\n",
        "\n",
        "    cust1.show_customer_details()\n",
        "\n",
        "\n",
        "if __name__ == \"__main__\":\n",
        "    main()\n"
      ],
      "metadata": {
        "colab": {
          "base_uri": "https://localhost:8080/"
        },
        "id": "rUUDdTGxaiQE",
        "outputId": "23de22ec-be62-4b1c-985d-9659394aa144"
      },
      "execution_count": 54,
      "outputs": [
        {
          "output_type": "stream",
          "name": "stdout",
          "text": [
            "\n",
            "Initial Details:\n",
            "Account Holder: Hem, Account No: 123456789, Balance: 50000 rupees\n",
            "Credit Limit: 100000 rupees, Credit Used: 0 rupees\n",
            "Deposited: 15000 rupees\n",
            "Withdrawn: 10000 rupees\n",
            "Credit used: 20000 rupees\n",
            "Credit payment of 5000 rupees successful.\n",
            "Account Holder: Hem, Account No: 123456789, Balance: 55000 rupees\n",
            "Credit Limit: 100000 rupees, Credit Used: 15000 rupees\n"
          ]
        }
      ]
    },
    {
      "cell_type": "code",
      "source": [
        "#Super() function\n",
        "\n",
        "class CurrentAccount(BankAccount):\n",
        "    def __init__(self, name, acc_no, balance, overdraft_limit):\n",
        "        super().__init__(name, acc_no, balance)\n",
        "        self.overdraft_limit = overdraft_limit\n",
        "\n",
        "    def get_details(self):\n",
        "        return super().get_account_details() + f\", Overdraft Limit: {self.overdraft_limit} rupees\"\n",
        "\n",
        "c1 = CurrentAccount(\"Hem\", \"123456789\", 30000, 10000)\n",
        "print(c1.get_details())\n"
      ],
      "metadata": {
        "colab": {
          "base_uri": "https://localhost:8080/"
        },
        "id": "Mgx-Ozx-bfWo",
        "outputId": "217bba0a-9603-4301-8541-74a756f3740b"
      },
      "execution_count": 57,
      "outputs": [
        {
          "output_type": "stream",
          "name": "stdout",
          "text": [
            "Account Holder: Hem, Account No: 123456789, Balance: 30000 rupees, Overdraft Limit: 10000 rupees\n"
          ]
        }
      ]
    },
    {
      "cell_type": "code",
      "source": [
        "#abstract method\n",
        "\n",
        "from abc import ABC, abstractmethod\n",
        "\n",
        "class Order(ABC):\n",
        "    def __init__(self, items):\n",
        "        self.items = items\n",
        "\n",
        "    @abstractmethod\n",
        "    def calculate_total(self):\n",
        "        pass\n",
        "\n",
        "class DineIn(Order):\n",
        "    def calculate_total(self):\n",
        "        return sum(self.items.values()) *1.2\n",
        "\n",
        "class Takeout(Order):\n",
        "    def calculate_total(self):\n",
        "        return sum(self.items.values())\n",
        "\n",
        "class Online(Order):\n",
        "    def calculate_total(self):\n",
        "        return sum(self.items.values()) *1.5\n",
        "\n",
        "orders = [\n",
        "    DineIn({\"Burger\":250, \"Fries\": 95}),\n",
        "    Takeout({\"Pasta\": 490, \"Wine\": 300}),\n",
        "    Online({\"Salad\": 315, \"Garlic Bread\": 60})\n",
        "]\n",
        "\n",
        "for order in orders:\n",
        "    print(f\"{order.__class__.__name__}: Total - {order.calculate_total()}\")\n"
      ],
      "metadata": {
        "colab": {
          "base_uri": "https://localhost:8080/"
        },
        "id": "ydlormuLgKtG",
        "outputId": "905b888b-f271-4904-aebc-89e70e6b3ebf"
      },
      "execution_count": 61,
      "outputs": [
        {
          "output_type": "stream",
          "name": "stdout",
          "text": [
            "DineIn: Total - 414.0\n",
            "Takeout: Total - 790\n",
            "Online: Total - 562.5\n"
          ]
        }
      ]
    },
    {
      "cell_type": "code",
      "source": [
        "# Class and Static Methods\n",
        "class BankAccount:\n",
        "    interest_rate = 7.5\n",
        "\n",
        "    def __init__(self, name, balance):\n",
        "        self.name = name\n",
        "        self.balance = balance\n",
        "\n",
        "    @staticmethod\n",
        "    def calculate_interest(balance, years):\n",
        "        n = 2\n",
        "        return balance * ((1 + (BankAccount.interest_rate / (n * 100))) ** (n * years))\n",
        "\n",
        "    @classmethod\n",
        "    def update_interest_rate(cls, new_rate):\n",
        "        cls.interest_rate = new_rate\n",
        "\n",
        "acc1 = BankAccount(\"Hemanth\", 12000)\n",
        "\n",
        "print(f\"Interest for 3 years (compounded semi-annually): {BankAccount.calculate_interest(acc1.balance, 3):.2f}\")\n",
        "\n",
        "BankAccount.update_interest_rate(8.0)\n",
        "print(f\"New interest rate: {BankAccount.interest_rate}%\")\n",
        "\n",
        "print(f\"Interest for 3 years (compounded semi-annually): {BankAccount.calculate_interest(acc1.balance, 3):.2f}\")\n",
        "\n"
      ],
      "metadata": {
        "colab": {
          "base_uri": "https://localhost:8080/"
        },
        "id": "vd-LRqsQkKrs",
        "outputId": "222e3bca-1ff8-4abf-8f15-89bf9fcbb086"
      },
      "execution_count": 72,
      "outputs": [
        {
          "output_type": "stream",
          "name": "stdout",
          "text": [
            "Interest for 3 years (compounded semi-annually): 14966.14\n",
            "New interest rate: 8.0%\n",
            "Interest for 3 years (compounded semi-annually): 15183.83\n"
          ]
        }
      ]
    },
    {
      "cell_type": "code",
      "source": [
        "#property deorators\n",
        "class Product:\n",
        "    def __init__(self, name, price):\n",
        "        self.name = name\n",
        "        self._price = price\n",
        "        self._discount = 0\n",
        "\n",
        "    @property\n",
        "    def price(self):\n",
        "        return self._price - (self._price * self._discount / 100)\n",
        "\n",
        "    @price.setter\n",
        "    def price(self, new_price):\n",
        "        if new_price > 0:\n",
        "            self._price = new_price\n",
        "        else:\n",
        "            print(\"Price must be positive!\")\n",
        "\n",
        "    @property\n",
        "    def discount(self):\n",
        "        return self._discount\n",
        "\n",
        "    @discount.setter\n",
        "    def discount(self, percentage):\n",
        "        if 0 <= percentage <= 50:\n",
        "            self._discount = percentage\n",
        "        else:\n",
        "            print(\"Invalid discount percentage!\")\n",
        "\n",
        "\n",
        "p1 = Product(\"Smartphone\", 50000)\n",
        "print(f\"Original Price: {p1.price}\")\n",
        "\n",
        "p1.discount = 20\n",
        "print(f\"Discounted Price: {p1.price}\")\n",
        "p1.discount = 60\n",
        "\n"
      ],
      "metadata": {
        "colab": {
          "base_uri": "https://localhost:8080/"
        },
        "id": "j1sQRejnqtjp",
        "outputId": "4888547a-3a7e-4101-a7db-af311a4c39dd"
      },
      "execution_count": 73,
      "outputs": [
        {
          "output_type": "stream",
          "name": "stdout",
          "text": [
            "Original Price: 50000.0\n",
            "Discounted Price: 40000.0\n",
            "Invalid discount percentage!\n"
          ]
        }
      ]
    }
  ]
}