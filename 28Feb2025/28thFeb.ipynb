{
  "nbformat": 4,
  "nbformat_minor": 0,
  "metadata": {
    "colab": {
      "provenance": []
    },
    "kernelspec": {
      "name": "python3",
      "display_name": "Python 3"
    },
    "language_info": {
      "name": "python"
    }
  },
  "cells": [
    {
      "cell_type": "markdown",
      "source": [
        "# Meta Classes"
      ],
      "metadata": {
        "id": "rHiRRi7slXXb"
      }
    },
    {
      "cell_type": "code",
      "execution_count": 1,
      "metadata": {
        "colab": {
          "base_uri": "https://localhost:8080/"
        },
        "id": "sArDC2JO1pIR",
        "outputId": "bc58b309-36b5-4480-e2ac-5c39b584b03c"
      },
      "outputs": [
        {
          "output_type": "stream",
          "name": "stdout",
          "text": [
            "Added by metaclass\n"
          ]
        }
      ],
      "source": [
        "# Basic MetaClasses\n",
        "\n",
        "class MyMeta(type):\n",
        "    def __new__(cls, name: str, bases: tuple, dct: dict) -> type:\n",
        "        dct['meta_attribute'] = \"Added by metaclass\"\n",
        "        return super().__new__(cls, name, bases, dct)\n",
        "\n",
        "class MyClass(metaclass=MyMeta):\n",
        "    pass\n",
        "\n",
        "instance = MyClass()\n",
        "print(instance.meta_attribute)\n"
      ]
    },
    {
      "cell_type": "code",
      "source": [
        "# Restrict Class names\n",
        "\n",
        "class CapitalizeNameMeta(type):\n",
        "    def __new__(cls, name: str, bases: tuple, dct: dict) -> type:\n",
        "        if not name[0].isupper():\n",
        "            raise ValueError(\"Class name must start with an uppercase letter\")\n",
        "        return super().__new__(cls, name, bases, dct)\n",
        "\n",
        "class MyClass(metaclass=CapitalizeNameMeta):\n",
        "    pass\n",
        "\n",
        "class myclass(metaclass=CapitalizeNameMeta):  # ValueError\n",
        "    pass\n"
      ],
      "metadata": {
        "colab": {
          "base_uri": "https://localhost:8080/",
          "height": 315
        },
        "id": "PaMCNqgJlo98",
        "outputId": "e94ea898-c61c-4b5c-88ef-400c383bc37f"
      },
      "execution_count": 3,
      "outputs": [
        {
          "output_type": "error",
          "ename": "ValueError",
          "evalue": "Class name must start with an uppercase letter",
          "traceback": [
            "\u001b[0;31m---------------------------------------------------------------------------\u001b[0m",
            "\u001b[0;31mValueError\u001b[0m                                Traceback (most recent call last)",
            "\u001b[0;32m<ipython-input-3-f2ae26959d86>\u001b[0m in \u001b[0;36m<cell line: 0>\u001b[0;34m()\u001b[0m\n\u001b[1;32m     10\u001b[0m     \u001b[0;32mpass\u001b[0m\u001b[0;34m\u001b[0m\u001b[0;34m\u001b[0m\u001b[0m\n\u001b[1;32m     11\u001b[0m \u001b[0;34m\u001b[0m\u001b[0m\n\u001b[0;32m---> 12\u001b[0;31m \u001b[0;32mclass\u001b[0m \u001b[0mmyclass\u001b[0m\u001b[0;34m(\u001b[0m\u001b[0mmetaclass\u001b[0m\u001b[0;34m=\u001b[0m\u001b[0mCapitalizeNameMeta\u001b[0m\u001b[0;34m)\u001b[0m\u001b[0;34m:\u001b[0m  \u001b[0;31m# ValueError\u001b[0m\u001b[0;34m\u001b[0m\u001b[0;34m\u001b[0m\u001b[0m\n\u001b[0m\u001b[1;32m     13\u001b[0m     \u001b[0;32mpass\u001b[0m\u001b[0;34m\u001b[0m\u001b[0;34m\u001b[0m\u001b[0m\n",
            "\u001b[0;32m<ipython-input-3-f2ae26959d86>\u001b[0m in \u001b[0;36m__new__\u001b[0;34m(cls, name, bases, dct)\u001b[0m\n\u001b[1;32m      4\u001b[0m     \u001b[0;32mdef\u001b[0m \u001b[0m__new__\u001b[0m\u001b[0;34m(\u001b[0m\u001b[0mcls\u001b[0m\u001b[0;34m,\u001b[0m \u001b[0mname\u001b[0m\u001b[0;34m:\u001b[0m \u001b[0mstr\u001b[0m\u001b[0;34m,\u001b[0m \u001b[0mbases\u001b[0m\u001b[0;34m:\u001b[0m \u001b[0mtuple\u001b[0m\u001b[0;34m,\u001b[0m \u001b[0mdct\u001b[0m\u001b[0;34m:\u001b[0m \u001b[0mdict\u001b[0m\u001b[0;34m)\u001b[0m \u001b[0;34m->\u001b[0m \u001b[0mtype\u001b[0m\u001b[0;34m:\u001b[0m\u001b[0;34m\u001b[0m\u001b[0;34m\u001b[0m\u001b[0m\n\u001b[1;32m      5\u001b[0m         \u001b[0;32mif\u001b[0m \u001b[0;32mnot\u001b[0m \u001b[0mname\u001b[0m\u001b[0;34m[\u001b[0m\u001b[0;36m0\u001b[0m\u001b[0;34m]\u001b[0m\u001b[0;34m.\u001b[0m\u001b[0misupper\u001b[0m\u001b[0;34m(\u001b[0m\u001b[0;34m)\u001b[0m\u001b[0;34m:\u001b[0m\u001b[0;34m\u001b[0m\u001b[0;34m\u001b[0m\u001b[0m\n\u001b[0;32m----> 6\u001b[0;31m             \u001b[0;32mraise\u001b[0m \u001b[0mValueError\u001b[0m\u001b[0;34m(\u001b[0m\u001b[0;34m\"Class name must start with an uppercase letter\"\u001b[0m\u001b[0;34m)\u001b[0m\u001b[0;34m\u001b[0m\u001b[0;34m\u001b[0m\u001b[0m\n\u001b[0m\u001b[1;32m      7\u001b[0m         \u001b[0;32mreturn\u001b[0m \u001b[0msuper\u001b[0m\u001b[0;34m(\u001b[0m\u001b[0;34m)\u001b[0m\u001b[0;34m.\u001b[0m\u001b[0m__new__\u001b[0m\u001b[0;34m(\u001b[0m\u001b[0mcls\u001b[0m\u001b[0;34m,\u001b[0m \u001b[0mname\u001b[0m\u001b[0;34m,\u001b[0m \u001b[0mbases\u001b[0m\u001b[0;34m,\u001b[0m \u001b[0mdct\u001b[0m\u001b[0;34m)\u001b[0m\u001b[0;34m\u001b[0m\u001b[0;34m\u001b[0m\u001b[0m\n\u001b[1;32m      8\u001b[0m \u001b[0;34m\u001b[0m\u001b[0m\n",
            "\u001b[0;31mValueError\u001b[0m: Class name must start with an uppercase letter"
          ]
        }
      ]
    },
    {
      "cell_type": "code",
      "source": [
        "# Singleton example using Meta Class\n",
        "\n",
        "class SingletonMeta(type):\n",
        "    _instances: dict[str, object] = {}\n",
        "\n",
        "    def __call__(cls, *args, **kwargs) -> object:\n",
        "        if cls not in cls._instances:\n",
        "            cls._instances[cls] = super().__call__(*args, **kwargs)\n",
        "        return cls._instances[cls]\n",
        "\n",
        "class SingletonClass(metaclass=SingletonMeta):\n",
        "    def __init__(self) -> None:\n",
        "        self.value = 42\n",
        "\n",
        "# Testing Singleton\n",
        "obj1 = SingletonClass()\n",
        "obj2 = SingletonClass()\n",
        "print(obj1 is obj2)  # Output: True\n",
        "print(obj1.value)\n",
        "print(obj2.value)"
      ],
      "metadata": {
        "colab": {
          "base_uri": "https://localhost:8080/"
        },
        "id": "CHcingaQmDm5",
        "outputId": "f1b43db9-f443-4392-d662-a088931a3c70"
      },
      "execution_count": 4,
      "outputs": [
        {
          "output_type": "stream",
          "name": "stdout",
          "text": [
            "True\n",
            "42\n",
            "42\n"
          ]
        }
      ]
    },
    {
      "cell_type": "code",
      "source": [
        "# Logging Class Creation:\n",
        "\n",
        "import logging\n",
        "\n",
        "logging.basicConfig(level=logging.INFO)\n",
        "\n",
        "class LogMeta(type):\n",
        "    def __new__(cls, name: str, bases: tuple, dct: dict) -> type:\n",
        "        logging.info(f\"Creating class: {name}\")\n",
        "        return super().__new__(cls, name, bases, dct)\n",
        "\n",
        "class LoggedClass(metaclass=LogMeta):\n",
        "    pass\n",
        "\n",
        "type(LoggedClass)\n",
        "# Output: INFO:root:Creating class: LoggedClass\n"
      ],
      "metadata": {
        "colab": {
          "base_uri": "https://localhost:8080/"
        },
        "id": "NqrOwTKkmXUP",
        "outputId": "09d7b66c-98cd-4678-9b5f-3b3cb03f5689"
      },
      "execution_count": 6,
      "outputs": [
        {
          "output_type": "execute_result",
          "data": {
            "text/plain": [
              "__main__.LogMeta"
            ]
          },
          "metadata": {},
          "execution_count": 6
        }
      ]
    },
    {
      "cell_type": "code",
      "source": [
        "# Adding Methods dynamically with Metaclass\n",
        "\n",
        "class MethodAdderMeta(type):\n",
        "    def __new__(cls, name: str, bases: tuple, dct: dict) -> type:\n",
        "        def dynamic_method(self) -> str:\n",
        "            return f\"Hello from {name}\"\n",
        "\n",
        "        dct['dynamic_method'] = dynamic_method\n",
        "        return super().__new__(cls, name, bases, dct)\n",
        "\n",
        "class MyClass(metaclass=MethodAdderMeta):\n",
        "    pass\n",
        "\n",
        "instance = MyClass()\n",
        "print(instance.dynamic_method())\n"
      ],
      "metadata": {
        "colab": {
          "base_uri": "https://localhost:8080/"
        },
        "id": "dZJD518wmrR-",
        "outputId": "a3ee94b2-90d9-48a7-e425-f42d6746aacb"
      },
      "execution_count": 7,
      "outputs": [
        {
          "output_type": "stream",
          "name": "stdout",
          "text": [
            "Hello from MyClass\n"
          ]
        }
      ]
    },
    {
      "cell_type": "code",
      "source": [
        "# Customize Inheritance using meta Classes\n",
        "\n",
        "class InheritanceMeta(type):\n",
        "    def __new__(cls, name: str, bases: tuple, dct: dict) -> type:\n",
        "        if 'required_method' not in dct:\n",
        "            raise TypeError(f\"{name} must implement 'required_method'\")\n",
        "        return super().__new__(cls, name, bases, dct)\n",
        "\n",
        "class BaseClass:\n",
        "    def required_method(self) -> str:\n",
        "        return \"Implemented\"\n",
        "\n",
        "class DerivedClass(BaseClass, metaclass=InheritanceMeta):\n",
        "    pass\n",
        "\n",
        "#This would raise an error\n",
        "class InvalidClass(metaclass=InheritanceMeta):\n",
        "    pass  # TypeError: InvalidClass must implement 'required_method'\n"
      ],
      "metadata": {
        "colab": {
          "base_uri": "https://localhost:8080/",
          "height": 332
        },
        "id": "oXvre5eMm4D0",
        "outputId": "b3354ced-0004-4a6f-fcd4-002184f9fc95"
      },
      "execution_count": 8,
      "outputs": [
        {
          "output_type": "error",
          "ename": "TypeError",
          "evalue": "DerivedClass must implement 'required_method'",
          "traceback": [
            "\u001b[0;31m---------------------------------------------------------------------------\u001b[0m",
            "\u001b[0;31mTypeError\u001b[0m                                 Traceback (most recent call last)",
            "\u001b[0;32m<ipython-input-8-b3981bd55ab4>\u001b[0m in \u001b[0;36m<cell line: 0>\u001b[0;34m()\u001b[0m\n\u001b[1;32m     11\u001b[0m         \u001b[0;32mreturn\u001b[0m \u001b[0;34m\"Implemented\"\u001b[0m\u001b[0;34m\u001b[0m\u001b[0;34m\u001b[0m\u001b[0m\n\u001b[1;32m     12\u001b[0m \u001b[0;34m\u001b[0m\u001b[0m\n\u001b[0;32m---> 13\u001b[0;31m \u001b[0;32mclass\u001b[0m \u001b[0mDerivedClass\u001b[0m\u001b[0;34m(\u001b[0m\u001b[0mBaseClass\u001b[0m\u001b[0;34m,\u001b[0m \u001b[0mmetaclass\u001b[0m\u001b[0;34m=\u001b[0m\u001b[0mInheritanceMeta\u001b[0m\u001b[0;34m)\u001b[0m\u001b[0;34m:\u001b[0m\u001b[0;34m\u001b[0m\u001b[0;34m\u001b[0m\u001b[0m\n\u001b[0m\u001b[1;32m     14\u001b[0m     \u001b[0;32mpass\u001b[0m\u001b[0;34m\u001b[0m\u001b[0;34m\u001b[0m\u001b[0m\n\u001b[1;32m     15\u001b[0m \u001b[0;34m\u001b[0m\u001b[0m\n",
            "\u001b[0;32m<ipython-input-8-b3981bd55ab4>\u001b[0m in \u001b[0;36m__new__\u001b[0;34m(cls, name, bases, dct)\u001b[0m\n\u001b[1;32m      4\u001b[0m     \u001b[0;32mdef\u001b[0m \u001b[0m__new__\u001b[0m\u001b[0;34m(\u001b[0m\u001b[0mcls\u001b[0m\u001b[0;34m,\u001b[0m \u001b[0mname\u001b[0m\u001b[0;34m:\u001b[0m \u001b[0mstr\u001b[0m\u001b[0;34m,\u001b[0m \u001b[0mbases\u001b[0m\u001b[0;34m:\u001b[0m \u001b[0mtuple\u001b[0m\u001b[0;34m,\u001b[0m \u001b[0mdct\u001b[0m\u001b[0;34m:\u001b[0m \u001b[0mdict\u001b[0m\u001b[0;34m)\u001b[0m \u001b[0;34m->\u001b[0m \u001b[0mtype\u001b[0m\u001b[0;34m:\u001b[0m\u001b[0;34m\u001b[0m\u001b[0;34m\u001b[0m\u001b[0m\n\u001b[1;32m      5\u001b[0m         \u001b[0;32mif\u001b[0m \u001b[0;34m'required_method'\u001b[0m \u001b[0;32mnot\u001b[0m \u001b[0;32min\u001b[0m \u001b[0mdct\u001b[0m\u001b[0;34m:\u001b[0m\u001b[0;34m\u001b[0m\u001b[0;34m\u001b[0m\u001b[0m\n\u001b[0;32m----> 6\u001b[0;31m             \u001b[0;32mraise\u001b[0m \u001b[0mTypeError\u001b[0m\u001b[0;34m(\u001b[0m\u001b[0;34mf\"{name} must implement 'required_method'\"\u001b[0m\u001b[0;34m)\u001b[0m\u001b[0;34m\u001b[0m\u001b[0;34m\u001b[0m\u001b[0m\n\u001b[0m\u001b[1;32m      7\u001b[0m         \u001b[0;32mreturn\u001b[0m \u001b[0msuper\u001b[0m\u001b[0;34m(\u001b[0m\u001b[0;34m)\u001b[0m\u001b[0;34m.\u001b[0m\u001b[0m__new__\u001b[0m\u001b[0;34m(\u001b[0m\u001b[0mcls\u001b[0m\u001b[0;34m,\u001b[0m \u001b[0mname\u001b[0m\u001b[0;34m,\u001b[0m \u001b[0mbases\u001b[0m\u001b[0;34m,\u001b[0m \u001b[0mdct\u001b[0m\u001b[0;34m)\u001b[0m\u001b[0;34m\u001b[0m\u001b[0;34m\u001b[0m\u001b[0m\n\u001b[1;32m      8\u001b[0m \u001b[0;34m\u001b[0m\u001b[0m\n",
            "\u001b[0;31mTypeError\u001b[0m: DerivedClass must implement 'required_method'"
          ]
        }
      ]
    },
    {
      "cell_type": "markdown",
      "source": [
        "# Design Principles"
      ],
      "metadata": {
        "id": "ArATINnLnOzm"
      }
    },
    {
      "cell_type": "markdown",
      "source": [
        "### Single Responsibility Principle"
      ],
      "metadata": {
        "id": "CLtL8Vc3nmQF"
      }
    },
    {
      "cell_type": "code",
      "source": [
        "# Before applying SRP\n",
        "class Employee:\n",
        "    def __init__(self, name: str, salary: float) -> None:\n",
        "        self.name = name\n",
        "        self.salary = salary\n",
        "\n",
        "    def calculate_payroll(self) -> float:\n",
        "        return self.salary * 0.75\n",
        "\n",
        "    def save_to_db(self) -> None:\n",
        "        print(f\"Saving {self.name} to database.\")\n",
        "\n",
        "# After applying SRP\n",
        "class Employee:\n",
        "    def __init__(self, name: str, salary: float) -> None:\n",
        "        self.name = name\n",
        "        self.salary = salary\n",
        "\n",
        "class PayrollCalculator:\n",
        "    def calculate_payroll(self, employee: Employee) -> float:\n",
        "        return employee.salary * 0.75\n",
        "\n",
        "class DatabaseSaver:\n",
        "    def save(self, employee: Employee) -> None:\n",
        "        print(f\"Saving {employee.name} to database.\")\n",
        "\n",
        "# Example usage\n",
        "employee = Employee(\"Hemanth\", 50000)\n",
        "payroll = PayrollCalculator().calculate_payroll(employee)\n",
        "DatabaseSaver().save(employee)\n"
      ],
      "metadata": {
        "colab": {
          "base_uri": "https://localhost:8080/"
        },
        "id": "SIYlb7P9nOXZ",
        "outputId": "5bc5c119-237e-42f6-f94e-ed40a2f11ad6"
      },
      "execution_count": 11,
      "outputs": [
        {
          "output_type": "stream",
          "name": "stdout",
          "text": [
            "Saving Hemanth to database.\n"
          ]
        }
      ]
    },
    {
      "cell_type": "code",
      "source": [
        "import requests\n",
        "from typing import Any\n",
        "\n",
        "\n",
        "class FileDownloader:\n",
        "    \"\"\"\n",
        "    Downloader: Responsible for fetching file data.\n",
        "    \"\"\"\n",
        "    def download(self, url: str) -> bytes:\n",
        "        response = requests.get(url)\n",
        "        response.raise_for_status()\n",
        "        return response.content\n",
        "\n",
        "\n",
        "class FileParser:\n",
        "    def parse(self, data: bytes) -> Any:\n",
        "      \"\"\"\n",
        "      Parser: Responsible for converting raw data to structured form.\n",
        "      \"\"\"\n",
        "      return data.decode('utf-8').splitlines()\n",
        "\n",
        "url = \"https://raw.githubusercontent.com/dwyl/english-words/master/words.txt\"\n",
        "downloader = FileDownloader()\n",
        "parser = FileParser()\n",
        "file_data = downloader.download(url)\n",
        "lines = parser.parse(file_data)\n",
        "print(\"First 5 lines of the parsed file:\")\n",
        "print(\"\\n\".join(lines[:5]))\n"
      ],
      "metadata": {
        "colab": {
          "base_uri": "https://localhost:8080/"
        },
        "id": "pDfNsVcjnytE",
        "outputId": "fe93cd4f-e829-403c-dd09-dc7f480d58ae"
      },
      "execution_count": 15,
      "outputs": [
        {
          "output_type": "stream",
          "name": "stdout",
          "text": [
            "First 5 lines of the parsed file:\n",
            "2\n",
            "1080\n",
            "&c\n",
            "10-point\n",
            "10th\n"
          ]
        }
      ]
    },
    {
      "cell_type": "markdown",
      "source": [
        "### Open-Closed Principle"
      ],
      "metadata": {
        "id": "s35Gem3upbcs"
      }
    },
    {
      "cell_type": "code",
      "source": [
        "from math import pi\n",
        "# not open-closed (Violation)\n",
        "\n",
        "class Shape:\n",
        "    def __init__(self, shape_type: str, **kwargs) -> None:\n",
        "        self.shape_type = shape_type\n",
        "        if self.shape_type == \"circle\":\n",
        "            self.radius = kwargs[\"radius\"]\n",
        "        elif self.shape_type == \"rectangle\":\n",
        "            self.length = kwargs[\"length\"]\n",
        "            self.width = kwargs[\"width\"]\n",
        "\n",
        "    def area(self) -> float:\n",
        "        if self.shape_type == \"circle\":\n",
        "            return pi * self.radius ** 2\n",
        "        elif self.shape_type == \"rectangle\":\n",
        "            return self.length * self.width\n",
        "\n",
        "def main() -> None:\n",
        "    shapes = [\n",
        "        Shape(\"circle\", radius=5),\n",
        "        Shape(\"rectangle\", length=4, width=6)\n",
        "    ]\n",
        "    for shape in shapes:\n",
        "        print(f\"Area of {shape.shape_type}: {shape.area()}\")\n",
        "\n",
        "\n",
        "if __name__ == \"__main__\":\n",
        "    main()"
      ],
      "metadata": {
        "colab": {
          "base_uri": "https://localhost:8080/"
        },
        "id": "4AfeRQx7pXvG",
        "outputId": "330e9aca-8395-4dea-ab5e-65ca06a5800d"
      },
      "execution_count": 20,
      "outputs": [
        {
          "output_type": "stream",
          "name": "stdout",
          "text": [
            "Area of circle: 78.53981633974483\n",
            "Area of rectangle: 24\n"
          ]
        }
      ]
    },
    {
      "cell_type": "code",
      "source": [
        "# Demonstration of Open-Closed Principle\n",
        "\n",
        "from abc import ABC, abstractmethod\n",
        "from math import pi\n",
        "\n",
        "class Shape(ABC):\n",
        "    @abstractmethod\n",
        "    def area(self) -> float:\n",
        "        pass\n",
        "\n",
        "class Circle(Shape):\n",
        "\n",
        "    def __init__(self, radius: float) -> None:\n",
        "        self.radius = radius\n",
        "\n",
        "    def area(self) -> float:\n",
        "        return pi * self.radius\n",
        "\n",
        "class Rectangle(Shape):\n",
        "\n",
        "    def __init__(self, width: float, height: float) -> None:\n",
        "        self.width = width\n",
        "        self.height = height\n",
        "\n",
        "    def area(self) -> float:\n",
        "        return self.width * self.height\n",
        "\n",
        "class Square(Rectangle):\n",
        "\n",
        "    def __init__(self, side_length: float) -> None:\n",
        "        super().__init__(side_length, side_length)\n",
        "\n",
        "    def area(self) -> float:\n",
        "        return super().area()\n",
        "\n",
        "class Triangle(Shape):\n",
        "\n",
        "    def __init__(self, base: float, height: float) -> None:\n",
        "        self.base = base\n",
        "        self.height = height\n",
        "\n",
        "    def area(self) -> float:\n",
        "        return 0.5 * self.base * self.height\n",
        "\n",
        "def main() -> None:\n",
        "\n",
        "    shapes = [\n",
        "        Circle(5),\n",
        "        Rectangle(4, 6),\n",
        "        Square(3),\n",
        "        Triangle(3, 4)\n",
        "    ]\n",
        "\n",
        "    for shape in shapes:\n",
        "        print(f\"Area of {type(shape).__name__}: {shape.area()}\")\n",
        "\n",
        "if __name__ == \"__main__\":\n",
        "    main()\n",
        "\n",
        "\n",
        ""
      ],
      "metadata": {
        "colab": {
          "base_uri": "https://localhost:8080/"
        },
        "id": "G01LBfcdskTO",
        "outputId": "9d8ea9b2-6c3f-40a1-cbd7-8d9506cfba8f"
      },
      "execution_count": 28,
      "outputs": [
        {
          "output_type": "stream",
          "name": "stdout",
          "text": [
            "Area of Circle: 15.707963267948966\n",
            "Area of Rectangle: 24\n",
            "Area of Square: 9\n",
            "Area of Triangle: 6.0\n"
          ]
        }
      ]
    },
    {
      "cell_type": "code",
      "source": [
        "# Demonstration of Open-Closed Principle\n",
        "\n",
        "from abc import ABC, abstractmethod\n",
        "\n",
        "class PaymentMethod(ABC):\n",
        "\n",
        "    @abstractmethod\n",
        "    def pay(self, amount: float) -> None:\n",
        "        pass\n",
        "\n",
        "class CreditCardPayment(PaymentMethod):\n",
        "\n",
        "    def pay(self, amount: float) -> None:\n",
        "        print(f\"Processing credit card payment of {amount} rupees\")\n",
        "\n",
        "class UpiPayment(PaymentMethod):\n",
        "\n",
        "    def pay(self, amount: float) -> None:\n",
        "        if amount > 100000:\n",
        "            print(\"Upi Payment can't be over 100,000 rupees\")\n",
        "        else:\n",
        "            print(f\"Processing Upi payment of {amount} rupees\")\n",
        "\n",
        "class BitcoinPayment(PaymentMethod):\n",
        "\n",
        "    def pay(self, amount: float) -> None:\n",
        "        print(f\"Processing Bitcoin payment of {amount} rupees\")\n",
        "\n",
        "payments = [CreditCardPayment(), UpiPayment(), BitcoinPayment()]\n",
        "for payment in payments:\n",
        "    payment.pay(300000)\n"
      ],
      "metadata": {
        "colab": {
          "base_uri": "https://localhost:8080/"
        },
        "id": "clBhaMJiuQDO",
        "outputId": "7e0a0bee-d423-46a0-f057-f95ba1607ea3"
      },
      "execution_count": 27,
      "outputs": [
        {
          "output_type": "stream",
          "name": "stdout",
          "text": [
            "Processing credit card payment of 300000 rupees\n",
            "Upi Payment can't be over 100,000 rupees\n",
            "Processing Bitcoin payment of 300000 rupees\n"
          ]
        }
      ]
    },
    {
      "cell_type": "markdown",
      "source": [
        "### Liskov Substitution Principle"
      ],
      "metadata": {
        "id": "_VL5kD8XwCdy"
      }
    },
    {
      "cell_type": "code",
      "source": [
        "# Liskov Substitution Violation\n",
        "\n",
        "# Incorrect design example:\n",
        "class Bird:\n",
        "    def fly(self) -> None:\n",
        "        print(\"Flying\")\n",
        "\n",
        "class Penguin(Bird):\n",
        "    def fly(self) -> None:\n",
        "        raise NotImplementedError(\"Penguins cannot fly\")\n",
        "\n",
        "def make_bird_fly(bird: Bird) -> None:\n",
        "    bird.fly()\n",
        "\n",
        "make_bird_fly(Penguin())\n"
      ],
      "metadata": {
        "colab": {
          "base_uri": "https://localhost:8080/",
          "height": 321
        },
        "id": "085R7S4Zv6xU",
        "outputId": "4f1bcc4f-f1e6-4dbf-b922-8096a1a3f810"
      },
      "execution_count": 29,
      "outputs": [
        {
          "output_type": "error",
          "ename": "NotImplementedError",
          "evalue": "Penguins cannot fly",
          "traceback": [
            "\u001b[0;31m---------------------------------------------------------------------------\u001b[0m",
            "\u001b[0;31mNotImplementedError\u001b[0m                       Traceback (most recent call last)",
            "\u001b[0;32m<ipython-input-29-35e319d17d2e>\u001b[0m in \u001b[0;36m<cell line: 0>\u001b[0;34m()\u001b[0m\n\u001b[1;32m     13\u001b[0m     \u001b[0mbird\u001b[0m\u001b[0;34m.\u001b[0m\u001b[0mfly\u001b[0m\u001b[0;34m(\u001b[0m\u001b[0;34m)\u001b[0m\u001b[0;34m\u001b[0m\u001b[0;34m\u001b[0m\u001b[0m\n\u001b[1;32m     14\u001b[0m \u001b[0;34m\u001b[0m\u001b[0m\n\u001b[0;32m---> 15\u001b[0;31m \u001b[0mmake_bird_fly\u001b[0m\u001b[0;34m(\u001b[0m\u001b[0mPenguin\u001b[0m\u001b[0;34m(\u001b[0m\u001b[0;34m)\u001b[0m\u001b[0;34m)\u001b[0m\u001b[0;34m\u001b[0m\u001b[0;34m\u001b[0m\u001b[0m\n\u001b[0m",
            "\u001b[0;32m<ipython-input-29-35e319d17d2e>\u001b[0m in \u001b[0;36mmake_bird_fly\u001b[0;34m(bird)\u001b[0m\n\u001b[1;32m     11\u001b[0m \u001b[0;34m\u001b[0m\u001b[0m\n\u001b[1;32m     12\u001b[0m \u001b[0;32mdef\u001b[0m \u001b[0mmake_bird_fly\u001b[0m\u001b[0;34m(\u001b[0m\u001b[0mbird\u001b[0m\u001b[0;34m:\u001b[0m \u001b[0mBird\u001b[0m\u001b[0;34m)\u001b[0m \u001b[0;34m->\u001b[0m \u001b[0;32mNone\u001b[0m\u001b[0;34m:\u001b[0m\u001b[0;34m\u001b[0m\u001b[0;34m\u001b[0m\u001b[0m\n\u001b[0;32m---> 13\u001b[0;31m     \u001b[0mbird\u001b[0m\u001b[0;34m.\u001b[0m\u001b[0mfly\u001b[0m\u001b[0;34m(\u001b[0m\u001b[0;34m)\u001b[0m\u001b[0;34m\u001b[0m\u001b[0;34m\u001b[0m\u001b[0m\n\u001b[0m\u001b[1;32m     14\u001b[0m \u001b[0;34m\u001b[0m\u001b[0m\n\u001b[1;32m     15\u001b[0m \u001b[0mmake_bird_fly\u001b[0m\u001b[0;34m(\u001b[0m\u001b[0mPenguin\u001b[0m\u001b[0;34m(\u001b[0m\u001b[0;34m)\u001b[0m\u001b[0;34m)\u001b[0m\u001b[0;34m\u001b[0m\u001b[0;34m\u001b[0m\u001b[0m\n",
            "\u001b[0;32m<ipython-input-29-35e319d17d2e>\u001b[0m in \u001b[0;36mfly\u001b[0;34m(self)\u001b[0m\n\u001b[1;32m      8\u001b[0m \u001b[0;32mclass\u001b[0m \u001b[0mPenguin\u001b[0m\u001b[0;34m(\u001b[0m\u001b[0mBird\u001b[0m\u001b[0;34m)\u001b[0m\u001b[0;34m:\u001b[0m\u001b[0;34m\u001b[0m\u001b[0;34m\u001b[0m\u001b[0m\n\u001b[1;32m      9\u001b[0m     \u001b[0;32mdef\u001b[0m \u001b[0mfly\u001b[0m\u001b[0;34m(\u001b[0m\u001b[0mself\u001b[0m\u001b[0;34m)\u001b[0m \u001b[0;34m->\u001b[0m \u001b[0;32mNone\u001b[0m\u001b[0;34m:\u001b[0m\u001b[0;34m\u001b[0m\u001b[0;34m\u001b[0m\u001b[0m\n\u001b[0;32m---> 10\u001b[0;31m         \u001b[0;32mraise\u001b[0m \u001b[0mNotImplementedError\u001b[0m\u001b[0;34m(\u001b[0m\u001b[0;34m\"Penguins cannot fly\"\u001b[0m\u001b[0;34m)\u001b[0m\u001b[0;34m\u001b[0m\u001b[0;34m\u001b[0m\u001b[0m\n\u001b[0m\u001b[1;32m     11\u001b[0m \u001b[0;34m\u001b[0m\u001b[0m\n\u001b[1;32m     12\u001b[0m \u001b[0;32mdef\u001b[0m \u001b[0mmake_bird_fly\u001b[0m\u001b[0;34m(\u001b[0m\u001b[0mbird\u001b[0m\u001b[0;34m:\u001b[0m \u001b[0mBird\u001b[0m\u001b[0;34m)\u001b[0m \u001b[0;34m->\u001b[0m \u001b[0;32mNone\u001b[0m\u001b[0;34m:\u001b[0m\u001b[0;34m\u001b[0m\u001b[0;34m\u001b[0m\u001b[0m\n",
            "\u001b[0;31mNotImplementedError\u001b[0m: Penguins cannot fly"
          ]
        }
      ]
    },
    {
      "cell_type": "code",
      "source": [
        "# Correct the violation\n",
        "\n",
        "class Bird:\n",
        "\n",
        "    def move(self) -> None:\n",
        "        print(\"Moving\")\n",
        "\n",
        "class FlyingBird(Bird):\n",
        "\n",
        "    def fly(self) -> None:\n",
        "        print(\"Flying\")\n",
        "\n",
        "class Eagle(FlyingBird):\n",
        "\n",
        "    def fly(self) -> None:\n",
        "        print(\"Flying high\")\n",
        "\n",
        "class Penguin(Bird):\n",
        "\n",
        "    def move(self) -> None:\n",
        "        print(\"Walking\")\n",
        "\n",
        "def make_bird_fly(bird: FlyingBird) -> None:\n",
        "\n",
        "    bird.fly()\n",
        "\n",
        "eagle = Eagle()\n",
        "make_bird_fly(eagle)\n",
        "penguin = Penguin()\n",
        "penguin.move()\n"
      ],
      "metadata": {
        "colab": {
          "base_uri": "https://localhost:8080/"
        },
        "id": "Tu6LfrRkxleA",
        "outputId": "932a42f4-53b6-4847-c0fa-bd0b4d8fb060"
      },
      "execution_count": 30,
      "outputs": [
        {
          "output_type": "stream",
          "name": "stdout",
          "text": [
            "Flying high\n",
            "Walking\n"
          ]
        }
      ]
    },
    {
      "cell_type": "code",
      "source": [
        "# Demonstration of Liskov Substituion Principle\n",
        "\n",
        "\n",
        "class Rectangle:\n",
        "    \"\"\"\n",
        "    # Base Rectangle class:\n",
        "    \"\"\"\n",
        "    def __init__(self, width: float, height: float) -> None:\n",
        "        self._width = width\n",
        "        self._height = height\n",
        "\n",
        "    @property\n",
        "    def width(self) -> float:\n",
        "        return self._width\n",
        "\n",
        "    @width.setter\n",
        "    def width(self, value: float) -> None:\n",
        "        self._width = value\n",
        "\n",
        "    @property\n",
        "    def height(self) -> float:\n",
        "        return self._height\n",
        "\n",
        "    @height.setter\n",
        "    def height(self, value: float) -> None:\n",
        "        self._height = value\n",
        "\n",
        "    def area(self) -> float:\n",
        "        return self._width * self._height\n",
        "\n",
        "\n",
        "class Square(Rectangle):\n",
        "    \"\"\"\n",
        "     A Square can be implemented carefully to preserve LSP.\n",
        "    \"\"\"\n",
        "\n",
        "    def __init__(self, side: float) -> None:\n",
        "        super().__init__(side, side)\n",
        "\n",
        "    @Rectangle.width.setter\n",
        "    def width(self, value: float) -> None:\n",
        "        self._width = value\n",
        "        self._height = value\n",
        "\n",
        "    @Rectangle.height.setter\n",
        "    def height(self, value: float) -> None:\n",
        "        self._width = value\n",
        "        self._height = value\n",
        "\n",
        "def print_area(rect: Rectangle) -> None:\n",
        "    print(f\"Area: {rect.area()}\")\n",
        "\n",
        "rect = Rectangle(4, 5)\n",
        "square = Square(4)\n",
        "print_area(rect)\n",
        "print_area(square)\n"
      ],
      "metadata": {
        "colab": {
          "base_uri": "https://localhost:8080/"
        },
        "id": "2KciakrrysRf",
        "outputId": "126cc1bf-846c-45e5-b481-aff7413a91bd"
      },
      "execution_count": 32,
      "outputs": [
        {
          "output_type": "stream",
          "name": "stdout",
          "text": [
            "Area: 20\n",
            "Area: 16\n"
          ]
        }
      ]
    },
    {
      "cell_type": "markdown",
      "source": [
        "### Interface Segmentation Principle"
      ],
      "metadata": {
        "id": "0MfLYV_vzLcT"
      }
    },
    {
      "cell_type": "code",
      "source": [
        "# Without ISP\n",
        "\n",
        "from abc import ABC, abstractmethod\n",
        "\n",
        "class Worker(ABC):\n",
        "    @abstractmethod\n",
        "    def work(self) -> None:\n",
        "        pass\n",
        "\n",
        "    @abstractmethod\n",
        "    def eat(self) -> None:\n",
        "        pass\n",
        "\n",
        "class HumanWorker(Worker):\n",
        "    def work(self) -> None:\n",
        "        print(\"Human working...\")\n",
        "\n",
        "    def eat(self) -> None:\n",
        "        print(\"Human eating...\")\n",
        "\n",
        "class RobotWorker(Worker):\n",
        "    def work(self) -> None:\n",
        "        print(\"Robot working...\")\n",
        "\n",
        "    def eat(self) -> None:\n",
        "        raise NotImplementedError(\"Robots don't eat\")\n"
      ],
      "metadata": {
        "id": "DWLZ40t_zJ_s"
      },
      "execution_count": 33,
      "outputs": []
    },
    {
      "cell_type": "code",
      "source": [
        "# ISP\n",
        "\n",
        "from abc import ABC, abstractmethod\n",
        "\n",
        "class Workable(ABC):\n",
        "    @abstractmethod\n",
        "    def work(self) -> None:\n",
        "        pass\n",
        "\n",
        "class Eatable(ABC):\n",
        "    @abstractmethod\n",
        "    def eat(self) -> None:\n",
        "        pass\n",
        "\n",
        "class HumanWorker(Workable, Eatable):\n",
        "    def work(self) -> None:\n",
        "        print(\"Human working...\")\n",
        "\n",
        "    def eat(self) -> None:\n",
        "        print(\"Human eating...\")\n",
        "\n",
        "class RobotWorker(Workable):\n",
        "    def work(self) -> None:\n",
        "        print(\"Robot working...\")\n",
        "\n",
        "human: Workable = HumanWorker()\n",
        "robot: Workable = RobotWorker()\n",
        "human.work()\n",
        "if isinstance(human, Eatable):\n",
        "    human.eat()\n",
        "robot.work()\n"
      ],
      "metadata": {
        "colab": {
          "base_uri": "https://localhost:8080/"
        },
        "id": "PIscMgdy0Dao",
        "outputId": "7cfa9f0d-5dff-4c8f-f5e2-9d9cf39ddc39"
      },
      "execution_count": 34,
      "outputs": [
        {
          "output_type": "stream",
          "name": "stdout",
          "text": [
            "Human working...\n",
            "Human eating...\n",
            "Robot working...\n"
          ]
        }
      ]
    },
    {
      "cell_type": "code",
      "source": [
        "# Multifunction Printer\n",
        "\n",
        "from abc import ABC, abstractmethod\n",
        "\n",
        "class Printer(ABC):\n",
        "\n",
        "    @abstractmethod\n",
        "    def print_document(self, document: str) -> None:\n",
        "        pass\n",
        "\n",
        "class Scanner(ABC):\n",
        "\n",
        "    @abstractmethod\n",
        "    def scan_document(self) -> str:\n",
        "        pass\n",
        "\n",
        "class MultiFunctionPrinter(Printer, Scanner):\n",
        "\n",
        "    def print_document(self, document: str) -> None:\n",
        "        print(f\"Printing document: {document}\")\n",
        "\n",
        "    def scan_document(self) -> str:\n",
        "        scanned = \"Scanned document content\"\n",
        "        print(scanned)\n",
        "        return scanned\n",
        "\n",
        "class SimplePrinter(Printer):\n",
        "\n",
        "    def print_document(self, document: str) -> None:\n",
        "        print(f\"Printing document: {document}\")\n",
        "\n",
        "mfp: Printer = MultiFunctionPrinter()\n",
        "mfp.print_document(\"Test Document\")\n",
        "sp: Printer = SimplePrinter()\n",
        "sp.print_document(\"Another Document\")\n"
      ],
      "metadata": {
        "colab": {
          "base_uri": "https://localhost:8080/"
        },
        "id": "6BZ6vGO50Mrf",
        "outputId": "ad75dcd2-02b6-4185-ea83-8584cf3950d3"
      },
      "execution_count": 36,
      "outputs": [
        {
          "output_type": "stream",
          "name": "stdout",
          "text": [
            "Printing document: Test Document\n",
            "Printing document: Another Document\n"
          ]
        }
      ]
    },
    {
      "cell_type": "markdown",
      "source": [
        "### Dependency Inversion Principle"
      ],
      "metadata": {
        "id": "udKutqqS0cBW"
      }
    },
    {
      "cell_type": "code",
      "source": [
        "# Before DIP\n",
        "\n",
        "# Not recommended\n",
        "class FileManager:\n",
        "\n",
        "    def read(self) -> str:\n",
        "        with open('/content/sample_data/file.txt', 'r') as file:\n",
        "            return file.read()\n",
        "\n",
        "class Report:\n",
        "\n",
        "    def __init__(self) -> None:\n",
        "        self.file_manager = FileManager()\n",
        "\n",
        "    def generate_report(self) -> str:\n",
        "        return self.file_manager.read()\n"
      ],
      "metadata": {
        "id": "svH2OuqB0kfV"
      },
      "execution_count": 38,
      "outputs": []
    },
    {
      "cell_type": "code",
      "source": [
        "# After DIP\n",
        "\n",
        "from abc import ABC, abstractmethod\n",
        "\n",
        "class Reader(ABC):\n",
        "    @abstractmethod\n",
        "    def read(self) -> str:\n",
        "        pass\n",
        "\n",
        "class FileReader(Reader):\n",
        "\n",
        "    def read(self) -> str:\n",
        "        with open('/content/sample_data/file.txt', 'r') as file:\n",
        "            return file.read()\n",
        "\n",
        "class Report:\n",
        "    def __init__(self, reader: Reader) -> None:\n",
        "        self.reader = reader\n",
        "\n",
        "    def generate_report(self) -> str:\n",
        "        return self.reader.read()\n",
        "\n",
        "with open('/content/sample_data/file.txt', 'w') as f:\n",
        "    f.write(\"This is a sample report content.\")\n",
        "\n",
        "reader: Reader = FileReader()\n",
        "report = Report(reader)\n",
        "print(\"Report Content:\")\n",
        "print(report.generate_report())\n",
        "\n"
      ],
      "metadata": {
        "colab": {
          "base_uri": "https://localhost:8080/"
        },
        "id": "XAhvUrAI1157",
        "outputId": "d957830d-58e4-463d-d552-a2f433ac8d62"
      },
      "execution_count": 39,
      "outputs": [
        {
          "output_type": "stream",
          "name": "stdout",
          "text": [
            "Report Content:\n",
            "This is a sample report content.\n"
          ]
        }
      ]
    },
    {
      "cell_type": "code",
      "source": [],
      "metadata": {
        "id": "wy-eanyB2jJ1"
      },
      "execution_count": null,
      "outputs": []
    }
  ]
}