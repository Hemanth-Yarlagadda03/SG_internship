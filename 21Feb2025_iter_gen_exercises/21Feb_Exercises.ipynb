{
  "nbformat": 4,
  "nbformat_minor": 0,
  "metadata": {
    "colab": {
      "provenance": []
    },
    "kernelspec": {
      "name": "python3",
      "display_name": "Python 3"
    },
    "language_info": {
      "name": "python"
    }
  },
  "cells": [
    {
      "cell_type": "markdown",
      "source": [
        "# Class and Static Methods"
      ],
      "metadata": {
        "id": "Iea7-3Ut1nto"
      }
    },
    {
      "cell_type": "code",
      "source": [
        "# class methods- implemented to act as a alternate constructor and a method to change class variable\n",
        "class Employee:\n",
        "    roles = {\"VP\": 500000, \"Manager\": 150000, \"Intern\": 30000}\n",
        "\n",
        "    def __init__(self, name, role):\n",
        "        self.name = name\n",
        "        self.role = role\n",
        "        self.salary = self.roles.get(role, 0)\n",
        "\n",
        "    @classmethod\n",
        "    def from_dict(cls, data):\n",
        "        return cls(data[\"name\"], data[\"role\"])\n",
        "\n",
        "    @classmethod\n",
        "    def update_salary(cls, role, new_salary):\n",
        "\n",
        "        if role in cls.roles:\n",
        "            cls.roles[role] = new_salary\n",
        "        else:\n",
        "            print(f\"Role '{role}' not found.\")\n",
        "\n",
        "dict1 = {\"name\": \"Hem\", \"role\": \"Intern\"}\n",
        "emp1 = Employee.from_dict(dict1)\n",
        "emp2 = Employee(\"Lakshman\", \"Manager\")\n",
        "\n",
        "print(emp1.name, emp1.salary)\n",
        "print(emp2.name, emp2.salary)\n",
        "Employee.update_salary(\"Intern\", 50000)\n",
        "emp3 = Employee(\"Yarlagadda\", \"Intern\")\n",
        "\n",
        "print(emp3.name, emp3.salary)\n"
      ],
      "metadata": {
        "colab": {
          "base_uri": "https://localhost:8080/"
        },
        "id": "BJguwE9pAgij",
        "outputId": "588019b9-a53f-4900-a724-0f71e66a89ab"
      },
      "execution_count": 9,
      "outputs": [
        {
          "output_type": "stream",
          "name": "stdout",
          "text": [
            "Hem 30000\n",
            "Lakshman 150000\n",
            "Yarlagadda 50000\n"
          ]
        }
      ]
    },
    {
      "cell_type": "code",
      "source": [
        "\n",
        "# static methods\n",
        "from datetime import date\n",
        "\n",
        "\n",
        "class Person:\n",
        "    def __init__(self, name, age):\n",
        "        self.name = name\n",
        "        self.age = age\n",
        "    @classmethod\n",
        "    def fromBirthYear(cls, name, year):\n",
        "        return cls(name, date.today().year - year)\n",
        "\n",
        "    @staticmethod\n",
        "    def isAdult(age):\n",
        "        return age > 18\n",
        "\n",
        "\n",
        "person1 = Person('Ram', 21)\n",
        "person2 = Person.fromBirthYear('Raj',2003)\n",
        "\n",
        "print(person1.age)\n",
        "print(person2.age)\n",
        "\n",
        "print(Person.isAdult(14))\n"
      ],
      "metadata": {
        "colab": {
          "base_uri": "https://localhost:8080/"
        },
        "id": "ipYMiP5mwrfb",
        "outputId": "a477fb29-ad1f-4653-d448-71f28a35715e"
      },
      "execution_count": 13,
      "outputs": [
        {
          "output_type": "stream",
          "name": "stdout",
          "text": [
            "21\n",
            "22\n",
            "False\n"
          ]
        }
      ]
    },
    {
      "cell_type": "code",
      "source": [
        "#__new__\n",
        "class PositiveNumber:\n",
        "    def __new__(cls, value):\n",
        "        if value <= 0:\n",
        "            raise ValueError(\"Value must be positive!\")\n",
        "        return super().__new__(cls)\n",
        "\n",
        "    def __init__(self, value):\n",
        "        self.value = value\n",
        "\n",
        "num1 = PositiveNumber(10)\n",
        "print(num1.value)\n",
        "\n",
        "try:\n",
        "    num2 = PositiveNumber(-5)\n",
        "except ValueError as e:\n",
        "    print(\"Error:\", e)\n"
      ],
      "metadata": {
        "colab": {
          "base_uri": "https://localhost:8080/"
        },
        "id": "eLz0BAgm25MT",
        "outputId": "77fdf45a-e681-4501-96de-2a505b5d8b8e"
      },
      "execution_count": 21,
      "outputs": [
        {
          "output_type": "stream",
          "name": "stdout",
          "text": [
            "10\n",
            "Error: Value must be positive!\n"
          ]
        }
      ]
    },
    {
      "cell_type": "code",
      "source": [
        "#__new__\n",
        "\n",
        "class ImmutableConfig:\n",
        "    _instance = None\n",
        "\n",
        "    def __new__(cls, *args, **kwargs):\n",
        "        if cls._instance is None:\n",
        "            cls._instance = super().__new__(cls)\n",
        "            cls._instance.__initialized = False\n",
        "        return cls._instance\n",
        "\n",
        "    def __init__(self, setting):\n",
        "        if not self.__initialized:\n",
        "            object.__setattr__(self, \"setting\", setting)\n",
        "            object.__setattr__(self, \"__initialized\", True)\n",
        "\n",
        "    def __setattr__(self, key, value):\n",
        "        if hasattr(self, key):\n",
        "            raise AttributeError(\"Cannot modify immutable attributes\")\n",
        "        object.__setattr__(self, key, value)\n",
        "\n",
        "config1 = ImmutableConfig(\"Dark Mode\")\n",
        "config2 = ImmutableConfig(\"Light Mode\")\n",
        "\n",
        "print(config1.setting)\n",
        "print(config2.setting)\n",
        "print(config1 is config2)\n",
        "try:\n",
        "    config1.setting = \"Blue Mode\"\n",
        "except AttributeError as e:\n",
        "    print(\"Error:\", e)\n"
      ],
      "metadata": {
        "colab": {
          "base_uri": "https://localhost:8080/"
        },
        "id": "wmGS6hTD0f73",
        "outputId": "5738e509-ec75-4549-c347-5cf4c15004ad"
      },
      "execution_count": 18,
      "outputs": [
        {
          "output_type": "stream",
          "name": "stdout",
          "text": [
            "Light Mode\n",
            "Light Mode\n",
            "True\n",
            "Error: Cannot modify immutable attributes\n"
          ]
        }
      ]
    },
    {
      "cell_type": "code",
      "source": [
        "# __new__\n",
        "class SingleCharName:\n",
        "    def __new__(cls, name):\n",
        "        if len(name) != 1:\n",
        "            raise ValueError(\"Only one character allowed\")\n",
        "        return super().__new__(cls)\n",
        "\n",
        "    def __init__(self, name):\n",
        "        self.name = name\n",
        "\n",
        "char1 = SingleCharName(\"X\")\n",
        "print(char1.name)\n",
        "\n",
        "try:\n",
        "    char2 = SingleCharName(\"Hem\")\n",
        "except ValueError as e:\n",
        "    print(\"Error:\", e)\n"
      ],
      "metadata": {
        "colab": {
          "base_uri": "https://localhost:8080/"
        },
        "id": "481bQubA2SyK",
        "outputId": "4c0e21b4-601b-4aaf-e79b-74ae345dbdca"
      },
      "execution_count": 23,
      "outputs": [
        {
          "output_type": "stream",
          "name": "stdout",
          "text": [
            "X\n",
            "Error: Only one character allowed\n"
          ]
        }
      ]
    },
    {
      "cell_type": "markdown",
      "source": [
        "# ITERATORS"
      ],
      "metadata": {
        "id": "fCh_9z3t5bU8"
      }
    },
    {
      "cell_type": "code",
      "source": [
        "mytuple = (\"apple\", \"banana\", \"cherry\")\n",
        "myit = iter(mytuple)\n",
        "\n",
        "print(next(myit))\n",
        "print(next(myit))\n",
        "print(next(myit))"
      ],
      "metadata": {
        "colab": {
          "base_uri": "https://localhost:8080/"
        },
        "id": "GvMAUPta9kcv",
        "outputId": "81edb2b9-01f8-4766-b3bb-e5ec479c9918"
      },
      "execution_count": 39,
      "outputs": [
        {
          "output_type": "stream",
          "name": "stdout",
          "text": [
            "apple\n",
            "banana\n",
            "cherry\n"
          ]
        }
      ]
    },
    {
      "cell_type": "code",
      "source": [
        "#Iterator for default data structures\n",
        "emp_name = [\"A\",\"B\",\"C\",\"D\"]\n",
        "it = iter(emp_name)\n",
        "try:\n",
        "  while True:\n",
        "   print(next(it))\n",
        "except StopIteration:\n",
        "  pass\n",
        "\n",
        "\n",
        "\n"
      ],
      "metadata": {
        "colab": {
          "base_uri": "https://localhost:8080/"
        },
        "id": "uQkf4jPU3ob2",
        "outputId": "5c9726bd-ab20-4678-c13d-c243b3da0b34"
      },
      "execution_count": 28,
      "outputs": [
        {
          "output_type": "stream",
          "name": "stdout",
          "text": [
            "A\n",
            "B\n",
            "C\n",
            "D\n"
          ]
        }
      ]
    },
    {
      "cell_type": "code",
      "source": [
        "#class based iterator\n",
        "class SalaryIterator:\n",
        "    def __init__(self, salaries):\n",
        "        self.salaries = salaries\n",
        "        self.index = 0\n",
        "\n",
        "    def __iter__(self):\n",
        "        return self\n",
        "\n",
        "    def __next__(self):\n",
        "        if self.index >= len(self.salaries):\n",
        "            raise StopIteration\n",
        "        salary = self.salaries[self.index] * 1.50\n",
        "        self.index += 1\n",
        "        return f\"Updated Salary: {salary:.2f}\"\n",
        "\n",
        "salaries = [50000, 60000, 55000]\n",
        "salary_iter = SalaryIterator(salaries)\n",
        "\n",
        "for salary in salary_iter:\n",
        "    print(salary)\n"
      ],
      "metadata": {
        "colab": {
          "base_uri": "https://localhost:8080/"
        },
        "id": "j1annyGQ7HI1",
        "outputId": "8dd518e8-955f-48b5-a83a-04ee5698e079"
      },
      "execution_count": 32,
      "outputs": [
        {
          "output_type": "stream",
          "name": "stdout",
          "text": [
            "Updated Salary: 75000.00\n",
            "Updated Salary: 90000.00\n",
            "Updated Salary: 82500.00\n"
          ]
        }
      ]
    },
    {
      "cell_type": "markdown",
      "source": [
        "# Generators"
      ],
      "metadata": {
        "id": "E6rDplwS73tZ"
      }
    },
    {
      "cell_type": "code",
      "source": [
        "#employee increment\n",
        "def emp_incr():\n",
        "    salary = [100000, 200000, 150000]\n",
        "    for s in salary:\n",
        "        yield f\"Increment received: {s * 0.20:.2f}\"\n",
        "\n",
        "incr = emp_incr()\n",
        "\n",
        "for i in incr:\n",
        "    print(i)\n"
      ],
      "metadata": {
        "colab": {
          "base_uri": "https://localhost:8080/"
        },
        "id": "xYQO6Tl173Ic",
        "outputId": "732cb575-0174-4499-acaa-0ad5279d789a"
      },
      "execution_count": 35,
      "outputs": [
        {
          "output_type": "stream",
          "name": "stdout",
          "text": [
            "Increment received: 20000.00\n",
            "Increment received: 40000.00\n",
            "Increment received: 30000.00\n"
          ]
        }
      ]
    },
    {
      "cell_type": "code",
      "source": [
        "#Role-Based Salary generator\n",
        "\n",
        "def salary_role(emp_roles):\n",
        "    base_salaries = {\"HR\": 50000, \"IT\": 60000, \"Finance\": 70000, \"Marketing\": 55000}\n",
        "\n",
        "    for role in emp_roles:\n",
        "        if role in base_salaries:\n",
        "            yield f\"Role: {role}, New Salary: {base_salaries[role] * 1.20:.2f}\"\n",
        "        else:\n",
        "            yield f\"Role: {role}, No data available\"\n",
        "\n",
        "roles = [\"IT\", \"HR\", \"Finance\", \"CEO\"]\n",
        "salary_gen = salary_role(roles)\n",
        "\n",
        "for salary in salary_gen:\n",
        "    print(salary)\n"
      ],
      "metadata": {
        "colab": {
          "base_uri": "https://localhost:8080/"
        },
        "id": "tOtZQ8Lp7QhG",
        "outputId": "a794e7f2-73f4-4f40-ad9a-2a70134c88c6"
      },
      "execution_count": 38,
      "outputs": [
        {
          "output_type": "stream",
          "name": "stdout",
          "text": [
            "Role: IT, New Salary: 72000.00\n",
            "Role: HR, New Salary: 60000.00\n",
            "Role: Finance, New Salary: 84000.00\n",
            "Role: CEO, No data available\n"
          ]
        }
      ]
    },
    {
      "cell_type": "code",
      "source": [
        "#infinite Iterator and generator:\n",
        "import random\n",
        "\n",
        "def rand_empids():\n",
        "    while True:\n",
        "        yield random.randint(100, 999)\n",
        "\n",
        "idgen = iter(rand_empids())\n",
        "\n",
        "for _ in range(5):\n",
        "    print(next(idgen))\n"
      ],
      "metadata": {
        "colab": {
          "base_uri": "https://localhost:8080/"
        },
        "id": "qekifl9L8sk8",
        "outputId": "a119a025-17e4-4ca3-a254-0c35cb2e8141"
      },
      "execution_count": 49,
      "outputs": [
        {
          "output_type": "stream",
          "name": "stdout",
          "text": [
            "665\n",
            "616\n",
            "817\n",
            "932\n",
            "111\n"
          ]
        }
      ]
    },
    {
      "cell_type": "code",
      "source": [
        "# combinig all concpets to create a library management system\n",
        "#book class\n",
        "class Book:\n",
        "    lib_name = \"SG Library\"\n",
        "\n",
        "    def __init__(self, b_id, title, author, copies):\n",
        "        self.b_id = b_id\n",
        "        self.title = title\n",
        "        self.author = author\n",
        "        self.copies = copies\n",
        "\n",
        "    def show(self):\n",
        "        print(f\"ID: {self.b_id}, {self.title} by {self.author}, Copies: {self.copies}\")\n",
        "\n",
        "    @staticmethod\n",
        "    def fine(days):\n",
        "        return days * 50\n",
        "\n",
        "    @classmethod\n",
        "    def set_lib_name(cls, name):\n",
        "        cls.lib_name = name\n",
        "\n",
        "\n"
      ],
      "metadata": {
        "id": "Kk4qADQm-Ajm"
      },
      "execution_count": 76,
      "outputs": []
    },
    {
      "cell_type": "code",
      "source": [
        "#book iterator\n",
        "class BookIter:\n",
        "    def __init__(self, books):\n",
        "        self.books = books\n",
        "        self.i = 0\n",
        "\n",
        "    def __iter__(self):\n",
        "        return self\n",
        "\n",
        "    def __next__(self):\n",
        "        if self.i >= len(self.books):\n",
        "            raise StopIteration\n",
        "        b = self.books[self.i]\n",
        "        self.i += 1\n",
        "        return b\n",
        "\n"
      ],
      "metadata": {
        "id": "0yfNpWfMAyWF"
      },
      "execution_count": 71,
      "outputs": []
    },
    {
      "cell_type": "code",
      "source": [
        "#book generator for availability\n",
        "def book_avail(books):\n",
        "    for b in books:\n",
        "        yield f\"{b.title} - Available: {b.copies}\" if b.copies > 0 else f\"{b.title} - Out of Stock\"\n"
      ],
      "metadata": {
        "id": "2B1hgXGvA5KC"
      },
      "execution_count": 72,
      "outputs": []
    },
    {
      "cell_type": "code",
      "source": [
        "#library management system\n",
        "class Library:\n",
        "    def __init__(self, books):\n",
        "        self.books = books\n",
        "\n",
        "    def list_books(self):\n",
        "        print(\"\\nBooks:\")\n",
        "        for b in BookIter(self.books):\n",
        "            b.show()\n",
        "\n",
        "    def check_avail(self):\n",
        "        print(\"\\nAvailability:\")\n",
        "        for b in book_avail(self.books):\n",
        "            print(b)\n",
        "\n",
        "    def show_lib_name(self):\n",
        "        print(f\"\\nLibrary: {Book.lib_name}\")\n",
        "\n"
      ],
      "metadata": {
        "id": "Rguyxq7rBL-x"
      },
      "execution_count": 73,
      "outputs": []
    },
    {
      "cell_type": "code",
      "source": [
        "\n",
        "books = [\n",
        "    Book(1, \"1984\", \"George Orwell\", 4),\n",
        "    Book(2, \"Metamorphosis\", \"Kafka\", 2),\n",
        "    Book(3, \"Hippie\", \"Paul Ceolho\", 0)\n",
        "]\n",
        "\n",
        "lib = Library(books)\n",
        "\n",
        "lib.list_books()\n",
        "lib.check_avail()\n",
        "lib.show_lib_name()\n",
        "Book.set_lib_name(\"Seg Library\")\n",
        "lib.show_lib_name()\n",
        "print(f\"{Book.fine(3)} rupees\")\n"
      ],
      "metadata": {
        "colab": {
          "base_uri": "https://localhost:8080/"
        },
        "id": "mcHsANqTBRgK",
        "outputId": "83880a83-d62a-4640-a0b6-18cc2ad1521a"
      },
      "execution_count": 78,
      "outputs": [
        {
          "output_type": "stream",
          "name": "stdout",
          "text": [
            "\n",
            "Books:\n",
            "ID: 1, 1984 by George Orwell, Copies: 4\n",
            "ID: 2, Metamorphosis by Kafka, Copies: 2\n",
            "ID: 3, Hippie by Paul Ceolho, Copies: 0\n",
            "\n",
            "Availability:\n",
            "1984 - Available: 4\n",
            "Metamorphosis - Available: 2\n",
            "Hippie - Out of Stock\n",
            "\n",
            "Library: Seg Library\n",
            "\n",
            "Library: Seg Library\n",
            "150 rupees\n"
          ]
        }
      ]
    }
  ]
}