{
  "cells": [
    {
      "cell_type": "markdown",
      "metadata": {
        "id": "Iea7-3Ut1nto"
      },
      "source": [
        "# Class and Static Methods"
      ]
    },
    {
      "cell_type": "code",
      "execution_count": null,
      "metadata": {
        "colab": {
          "base_uri": "https://localhost:8080/"
        },
        "id": "BJguwE9pAgij",
        "outputId": "588019b9-a53f-4900-a724-0f71e66a89ab"
      },
      "outputs": [],
      "source": [
        "# class methods- implemented to act as a alternate constructor and a method to change class variable\n",
        "from typing import Dict\n",
        "\n",
        "class Employee:\n",
        "    \"\"\"Employee class with class methods for alternate constructors \n",
        "    and salary updates.\"\"\"\n",
        "\n",
        "    roles: Dict[str, int] = {\"VP\": 500000, \"Manager\": 150000, \"Intern\": 30000}\n",
        "\n",
        "    def __init__(self, name: str, role: str) -> None:\n",
        "        self.name = name\n",
        "        self.role = role\n",
        "        self.salary = self.roles.get(role, 0)\n",
        "\n",
        "    @classmethod\n",
        "    def from_dict(cls, data: Dict[str, str]) -> \"Employee\":\n",
        "        \"\"\"Creates an Employee instance from a dictionary.\"\"\"\n",
        "        return cls(data[\"name\"], data[\"role\"])\n",
        "\n",
        "    @classmethod\n",
        "    def update_salary(cls, role: str, new_salary: int) -> None:\n",
        "        \"\"\"Updates the salary of a given role.\"\"\"\n",
        "        if role in cls.roles:\n",
        "            cls.roles[role] = new_salary\n",
        "        else:\n",
        "            print(f\"Role '{role}' not found.\")\n"
      ]
    },
    {
      "cell_type": "code",
      "execution_count": 3,
      "metadata": {},
      "outputs": [
        {
          "name": "stdout",
          "output_type": "stream",
          "text": [
            "Hem 30000\n",
            "Lakshman 150000\n",
            "Yarlagadda 50000\n"
          ]
        }
      ],
      "source": [
        "\n",
        "dict1 = {\"name\": \"Hem\", \"role\": \"Intern\"}\n",
        "emp1 = Employee.from_dict(dict1)\n",
        "emp2 = Employee(\"Lakshman\", \"Manager\")\n",
        "\n",
        "print(emp1.name, emp1.salary)\n",
        "print(emp2.name, emp2.salary)\n",
        "\n",
        "Employee.update_salary(\"Intern\", 50000)\n",
        "\n",
        "emp3 = Employee(\"Yarlagadda\", \"Intern\")\n",
        "print(emp3.name, emp3.salary)\n"
      ]
    },
    {
      "cell_type": "code",
      "execution_count": 4,
      "metadata": {
        "colab": {
          "base_uri": "https://localhost:8080/"
        },
        "id": "ipYMiP5mwrfb",
        "outputId": "a477fb29-ad1f-4653-d448-71f28a35715e"
      },
      "outputs": [
        {
          "name": "stdout",
          "output_type": "stream",
          "text": [
            "21\n",
            "22\n",
            "False\n"
          ]
        }
      ],
      "source": [
        "\n",
        "# static methods\n",
        "from datetime import date\n",
        "\n",
        "class Person:\n",
        "    \"\"\"Person class with a method to calculate age from birth year.\"\"\"\n",
        "\n",
        "    def __init__(self, name: str, age: int) -> None:\n",
        "        self.name = name\n",
        "        self.age = age\n",
        "\n",
        "    @classmethod\n",
        "    def from_birth_year(cls, name: str, year: int) -> \"Person\":\n",
        "        \"\"\"Creates a Person instance using the birth year.\"\"\"\n",
        "        return cls(name, date.today().year - year)\n",
        "\n",
        "    @staticmethod\n",
        "    def is_adult(age: int) -> bool:\n",
        "        \"\"\"Checks if a person is an adult.\"\"\"\n",
        "        return age > 18\n",
        "\n",
        "\n",
        "person1 = Person(\"Ram\", 21)\n",
        "person2 = Person.from_birth_year(\"Raj\", 2003)\n",
        "\n",
        "print(person1.age)\n",
        "print(person2.age)\n",
        "print(Person.is_adult(14))\n"
      ]
    },
    {
      "cell_type": "code",
      "execution_count": 5,
      "metadata": {
        "colab": {
          "base_uri": "https://localhost:8080/"
        },
        "id": "eLz0BAgm25MT",
        "outputId": "77fdf45a-e681-4501-96de-2a505b5d8b8e"
      },
      "outputs": [
        {
          "name": "stdout",
          "output_type": "stream",
          "text": [
            "10\n",
            "Error: Value must be positive!\n"
          ]
        }
      ],
      "source": [
        "#__new__\n",
        "class PositiveNumber:\n",
        "    \"\"\"Ensures a number is positive before creating an instance.\"\"\"\n",
        "\n",
        "    def __new__(cls, value: int) -> \"PositiveNumber\":\n",
        "        \"\"\"Creates a new instance only if the value is positive.\"\"\"\n",
        "        if value <= 0:\n",
        "            raise ValueError(\"Value must be positive!\")\n",
        "        return super().__new__(cls)\n",
        "\n",
        "    def __init__(self, value: int) -> None:\n",
        "        \"\"\"Initializes the PositiveNumber instance.\"\"\"\n",
        "        self.value = value\n",
        "\n",
        "\n",
        "num1 = PositiveNumber(10)\n",
        "print(num1.value)\n",
        "\n",
        "try:\n",
        "    num2 = PositiveNumber(-5)\n",
        "except ValueError as error:\n",
        "    print(\"Error:\", error)\n"
      ]
    },
    {
      "cell_type": "code",
      "execution_count": 6,
      "metadata": {
        "colab": {
          "base_uri": "https://localhost:8080/"
        },
        "id": "wmGS6hTD0f73",
        "outputId": "5738e509-ec75-4549-c347-5cf4c15004ad"
      },
      "outputs": [
        {
          "name": "stdout",
          "output_type": "stream",
          "text": [
            "Light Mode\n",
            "Light Mode\n",
            "True\n",
            "Error: Cannot modify immutable attributes\n"
          ]
        }
      ],
      "source": [
        "#__new__\n",
        "class ImmutableConfig:\n",
        "    \"\"\"Singleton class to enforce immutable configuration.\"\"\"\n",
        "\n",
        "    _instance = None\n",
        "\n",
        "    def __new__(cls, *args, **kwargs) -> \"ImmutableConfig\":\n",
        "        \"\"\"Creates a single instance and ensures immutability.\"\"\"\n",
        "        if cls._instance is None:\n",
        "            cls._instance = super().__new__(cls)\n",
        "            cls._instance.__initialized = False\n",
        "        return cls._instance\n",
        "\n",
        "    def __init__(self, setting: str) -> None:\n",
        "        \"\"\"Initializes the configuration setting only once.\"\"\"\n",
        "        if not self.__initialized:\n",
        "            object.__setattr__(self, \"setting\", setting)\n",
        "            object.__setattr__(self, \"__initialized\", True)\n",
        "\n",
        "    def __setattr__(self, key: str, value: str) -> None:\n",
        "        \"\"\"Prevents modification of attributes after initialization.\"\"\"\n",
        "        if hasattr(self, key):\n",
        "            raise AttributeError(\"Cannot modify immutable attributes\")\n",
        "        object.__setattr__(self, key, value)\n",
        "\n",
        "\n",
        "# Example usage\n",
        "config1 = ImmutableConfig(\"Dark Mode\")\n",
        "config2 = ImmutableConfig(\"Light Mode\")\n",
        "\n",
        "print(config1.setting)  # Output: Dark Mode\n",
        "print(config2.setting)  # Output: Dark Mode (singleton behavior)\n",
        "print(config1 is config2)  # Output: True (both are same instance)\n",
        "\n",
        "try:\n",
        "    config1.setting = \"Blue Mode\"\n",
        "except AttributeError as error:\n",
        "    print(\"Error:\", error)\n"
      ]
    },
    {
      "cell_type": "code",
      "execution_count": 7,
      "metadata": {
        "colab": {
          "base_uri": "https://localhost:8080/"
        },
        "id": "481bQubA2SyK",
        "outputId": "4c0e21b4-601b-4aaf-e79b-74ae345dbdca"
      },
      "outputs": [
        {
          "name": "stdout",
          "output_type": "stream",
          "text": [
            "X\n",
            "Error: Only one character allowed\n"
          ]
        }
      ],
      "source": [
        "# __new__\n",
        "class SingleCharName:\n",
        "    \"\"\"Ensures that only a single character is allowed for a name.\"\"\"\n",
        "\n",
        "    def __new__(cls, name: str) -> \"SingleCharName\":\n",
        "        \"\"\"Creates a new instance only if the name contains one character.\"\"\"\n",
        "        if len(name) != 1:\n",
        "            raise ValueError(\"Only one character allowed\")\n",
        "        return super().__new__(cls)\n",
        "\n",
        "    def __init__(self, name: str) -> None:\n",
        "        \"\"\"Initializes the SingleCharName instance with the given character.\"\"\"\n",
        "        self.name = name\n",
        "\n",
        "\n",
        "char1 = SingleCharName(\"X\")\n",
        "print(char1.name)  \n",
        "\n",
        "try:\n",
        "    char2 = SingleCharName(\"Hem\")  # This should raise a ValueError\n",
        "except ValueError as error:\n",
        "    print(\"Error:\", error)\n",
        "\n"
      ]
    },
    {
      "cell_type": "markdown",
      "metadata": {
        "id": "fCh_9z3t5bU8"
      },
      "source": [
        "# ITERATORS"
      ]
    },
    {
      "cell_type": "code",
      "execution_count": 39,
      "metadata": {
        "colab": {
          "base_uri": "https://localhost:8080/"
        },
        "id": "GvMAUPta9kcv",
        "outputId": "81edb2b9-01f8-4766-b3bb-e5ec479c9918"
      },
      "outputs": [
        {
          "name": "stdout",
          "output_type": "stream",
          "text": [
            "apple\n",
            "banana\n",
            "cherry\n"
          ]
        }
      ],
      "source": [
        "mytuple = (\"apple\", \"banana\", \"cherry\")\n",
        "myit = iter(mytuple)\n",
        "\n",
        "print(next(myit))\n",
        "print(next(myit))\n",
        "print(next(myit))"
      ]
    },
    {
      "cell_type": "code",
      "execution_count": 8,
      "metadata": {
        "colab": {
          "base_uri": "https://localhost:8080/"
        },
        "id": "uQkf4jPU3ob2",
        "outputId": "5c9726bd-ab20-4678-c13d-c243b3da0b34"
      },
      "outputs": [
        {
          "name": "stdout",
          "output_type": "stream",
          "text": [
            "A\n",
            "B\n",
            "C\n",
            "D\n"
          ]
        }
      ],
      "source": [
        "#Iterator for default data structures\n",
        "emp_names = [\"A\", \"B\", \"C\", \"D\"]\n",
        "iterator = iter(emp_names)\n",
        "\n",
        "try:\n",
        "    while True:\n",
        "        print(next(iterator))\n",
        "except StopIteration:\n",
        "    pass  #Handle Iteration completion\n",
        "\n",
        "\n",
        "\n"
      ]
    },
    {
      "cell_type": "code",
      "execution_count": 9,
      "metadata": {
        "colab": {
          "base_uri": "https://localhost:8080/"
        },
        "id": "j1annyGQ7HI1",
        "outputId": "8dd518e8-955f-48b5-a83a-04ee5698e079"
      },
      "outputs": [
        {
          "name": "stdout",
          "output_type": "stream",
          "text": [
            "Updated Salary: 75000.00\n",
            "Updated Salary: 90000.00\n",
            "Updated Salary: 82500.00\n"
          ]
        }
      ],
      "source": [
        "#class based iterator\n",
        "class SalaryIterator:\n",
        "    \"\"\"Iterator for calculating updated salaries with a 1.5x increase.\"\"\"\n",
        "\n",
        "    def __init__(self, salaries: list[int]) -> None:\n",
        "        \"\"\"Initializes the SalaryIterator with a list of salaries.\"\"\"\n",
        "        self.salaries = salaries\n",
        "        self.index = 0\n",
        "\n",
        "    def __iter__(self) -> \"SalaryIterator\":\n",
        "        \"\"\"Returns the iterator object itself.\"\"\"\n",
        "        return self\n",
        "\n",
        "    def __next__(self) -> str:\n",
        "        \"\"\"Calculates and returns the updated salary, stops iteration when complete.\"\"\"\n",
        "        if self.index >= len(self.salaries):\n",
        "            raise StopIteration\n",
        "        salary = self.salaries[self.index] * 1.50\n",
        "        self.index += 1\n",
        "        return f\"Updated Salary: {salary:.2f}\"\n",
        "\n",
        "\n",
        "salaries = [50000, 60000, 55000]\n",
        "salary_iterator = SalaryIterator(salaries)\n",
        "\n",
        "for salary in salary_iterator:\n",
        "    print(salary)\n"
      ]
    },
    {
      "cell_type": "markdown",
      "metadata": {
        "id": "E6rDplwS73tZ"
      },
      "source": [
        "# Generators"
      ]
    },
    {
      "cell_type": "code",
      "execution_count": 12,
      "metadata": {
        "colab": {
          "base_uri": "https://localhost:8080/"
        },
        "id": "xYQO6Tl173Ic",
        "outputId": "732cb575-0174-4499-acaa-0ad5279d789a"
      },
      "outputs": [
        {
          "name": "stdout",
          "output_type": "stream",
          "text": [
            "Increment received: 20000.00\n",
            "Increment received: 40000.00\n",
            "Increment received: 30000.00\n"
          ]
        }
      ],
      "source": [
        "#employee increment\n",
        "def employee_increment() -> any:\n",
        "    \"\"\"Generator function that yields a 20% increment for each salary.\"\"\"\n",
        "    salaries = [100000, 200000, 150000]\n",
        "    for salary in salaries:\n",
        "        yield f\"Increment received: {salary * 0.20:.2f}\"\n",
        "\n",
        "\n",
        "increments = employee_increment()\n",
        "\n",
        "for increment in increments:\n",
        "    print(increment)\n",
        "\n"
      ]
    },
    {
      "cell_type": "code",
      "execution_count": 13,
      "metadata": {
        "colab": {
          "base_uri": "https://localhost:8080/"
        },
        "id": "tOtZQ8Lp7QhG",
        "outputId": "a794e7f2-73f4-4f40-ad9a-2a70134c88c6"
      },
      "outputs": [
        {
          "name": "stdout",
          "output_type": "stream",
          "text": [
            "Role: IT, New Salary: 72000.00\n",
            "Role: HR, New Salary: 60000.00\n",
            "Role: Finance, New Salary: 84000.00\n",
            "Role: CEO, No data available\n"
          ]
        }
      ],
      "source": [
        "#Role-Based Salary generator\n",
        "\n",
        "from typing import Generator, List\n",
        "\n",
        "\n",
        "def salary_role(emp_roles: List[str]) -> Generator[str, None, None]:\n",
        "    \"\"\"\n",
        "    Generator function that calculates new salaries for employees \n",
        "    based on their roles. If a role is not in the base salaries, it returns a message.\n",
        "    \"\"\"\n",
        "    base_salaries = {\n",
        "        \"HR\": 50000,\n",
        "        \"IT\": 60000,\n",
        "        \"Finance\": 70000,\n",
        "        \"Marketing\": 55000\n",
        "    }\n",
        "\n",
        "    for role in emp_roles:\n",
        "        if role in base_salaries:\n",
        "            yield f\"Role: {role}, New Salary: {base_salaries[role] * 1.20:.2f}\"\n",
        "        else:\n",
        "            yield f\"Role: {role}, No data available\"\n",
        "\n",
        "\n",
        "# Example usage\n",
        "roles = [\"IT\", \"HR\", \"Finance\", \"CEO\"]\n",
        "salary_generator = salary_role(roles)\n",
        "\n",
        "for salary in salary_generator:\n",
        "    print(salary)\n",
        "\n"
      ]
    },
    {
      "cell_type": "code",
      "execution_count": 14,
      "metadata": {
        "colab": {
          "base_uri": "https://localhost:8080/"
        },
        "id": "qekifl9L8sk8",
        "outputId": "a119a025-17e4-4ca3-a254-0c35cb2e8141"
      },
      "outputs": [
        {
          "name": "stdout",
          "output_type": "stream",
          "text": [
            "377\n",
            "432\n",
            "773\n",
            "174\n",
            "787\n"
          ]
        }
      ],
      "source": [
        "#infinite Iterator and generator:\n",
        "import random\n",
        "from typing import Generator\n",
        "\n",
        "\n",
        "def random_employee_ids() -> Generator[int, None, None]:\n",
        "    \"\"\"\n",
        "    Generator function that yields random employee IDs indefinitely.\n",
        "    \"\"\"\n",
        "    while True:\n",
        "        yield random.randint(100, 999)\n",
        "\n",
        "\n",
        "# Example usage: Generate 5 random employee IDs\n",
        "id_generator = iter(random_employee_ids())\n",
        "\n",
        "for _ in range(5):\n",
        "    print(next(id_generator))\n"
      ]
    },
    {
      "cell_type": "code",
      "execution_count": 15,
      "metadata": {
        "id": "Kk4qADQm-Ajm"
      },
      "outputs": [
        {
          "name": "stdout",
          "output_type": "stream",
          "text": [
            "\n",
            "Books:\n",
            "ID: 1, 1984 by George Orwell, Copies: 4\n",
            "ID: 2, Metamorphosis by Franz Kafka, Copies: 2\n",
            "ID: 3, Hippie by Paulo Coelho, Copies: 0\n",
            "\n",
            "Availability:\n",
            "1984 - Available: 4\n",
            "Metamorphosis - Available: 2\n",
            "Hippie - Out of Stock\n",
            "\n",
            "Library: SG Library\n",
            "\n",
            "Library: Seg Library\n",
            "150 rupees\n"
          ]
        }
      ],
      "source": [
        "# combinig all concpets to create a library management system\n",
        "#book class\n",
        "from typing import List, Generator\n",
        "\n",
        "\n",
        "class Book:\n",
        "    \"\"\"Represents a book in the library.\"\"\"\n",
        "\n",
        "    lib_name = \"SG Library\"\n",
        "\n",
        "    def __init__(self, b_id: int, title: str, author: str, copies: int) -> None:\n",
        "        \"\"\"Initializes the Book instance with ID, title, author, and copies available.\"\"\"\n",
        "        self.b_id = b_id\n",
        "        self.title = title\n",
        "        self.author = author\n",
        "        self.copies = copies\n",
        "\n",
        "    def show(self) -> None:\n",
        "        \"\"\"Displays book details.\"\"\"\n",
        "        print(f\"ID: {self.b_id}, {self.title} by {self.author}, Copies: {self.copies}\")\n",
        "\n",
        "    @staticmethod\n",
        "    def fine(days: int) -> int:\n",
        "        \"\"\"Calculates fine for overdue books (50 per day).\"\"\"\n",
        "        return days * 50\n",
        "\n",
        "    @classmethod\n",
        "    def set_lib_name(cls, name: str) -> None:\n",
        "        \"\"\"Updates the library name.\"\"\"\n",
        "        cls.lib_name = name\n",
        "\n",
        "\n",
        "class BookIterator:\n",
        "    \"\"\"Iterator for iterating through a list of books.\"\"\"\n",
        "\n",
        "    def __init__(self, books: List[Book]) -> None:\n",
        "        \"\"\"Initializes the BookIterator with a list of books.\"\"\"\n",
        "        self.books = books\n",
        "        self.index = 0\n",
        "\n",
        "    def __iter__(self) -> \"BookIterator\":\n",
        "        \"\"\"Returns the iterator object itself.\"\"\"\n",
        "        return self\n",
        "\n",
        "    def __next__(self) -> Book:\n",
        "        \"\"\"Returns the next book in the list or raises StopIteration.\"\"\"\n",
        "        if self.index >= len(self.books):\n",
        "            raise StopIteration\n",
        "        book = self.books[self.index]\n",
        "        self.index += 1\n",
        "        return book\n",
        "\n",
        "\n",
        "def book_availability(books: List[Book]) -> Generator[str, None, None]:\n",
        "    \"\"\"\n",
        "    Generator function to check book availability.\n",
        "    Yields available books with their copies or marks them as out of stock.\n",
        "    \"\"\"\n",
        "    for book in books:\n",
        "        if book.copies > 0:\n",
        "            yield f\"{book.title} - Available: {book.copies}\"\n",
        "        else:\n",
        "            yield f\"{book.title} - Out of Stock\"\n",
        "\n",
        "\n",
        "class Library:\n",
        "    \"\"\"Library management system to handle books.\"\"\"\n",
        "\n",
        "    def __init__(self, books: List[Book]) -> None:\n",
        "        \"\"\"Initializes the library with a list of books.\"\"\"\n",
        "        self.books = books\n",
        "\n",
        "    def list_books(self) -> None:\n",
        "        \"\"\"Lists all books in the library.\"\"\"\n",
        "        print(\"\\nBooks:\")\n",
        "        for book in BookIterator(self.books):\n",
        "            book.show()\n",
        "\n",
        "    def check_availability(self) -> None:\n",
        "        \"\"\"Checks availability of books.\"\"\"\n",
        "        print(\"\\nAvailability:\")\n",
        "        for book in book_availability(self.books):\n",
        "            print(book)\n",
        "\n",
        "    def show_library_name(self) -> None:\n",
        "        \"\"\"Displays the library name.\"\"\"\n",
        "        print(f\"\\nLibrary: {Book.lib_name}\")\n",
        "\n",
        "\n",
        "books = [\n",
        "    Book(1, \"1984\", \"George Orwell\", 4),\n",
        "    Book(2, \"Metamorphosis\", \"Franz Kafka\", 2),\n",
        "    Book(3, \"Hippie\", \"Paulo Coelho\", 0)\n",
        "]\n",
        "\n",
        "library = Library(books)\n",
        "\n",
        "library.list_books()\n",
        "library.check_availability()\n",
        "library.show_library_name()\n",
        "\n",
        "# Updating library name\n",
        "Book.set_lib_name(\"Seg Library\")\n",
        "library.show_library_name()\n",
        "\n",
        "# Calculating fine\n",
        "print(f\"{Book.fine(3)} rupees\")\n",
        "\n",
        "\n",
        "\n"
      ]
    }
  ],
  "metadata": {
    "colab": {
      "provenance": []
    },
    "kernelspec": {
      "display_name": "Python 3",
      "name": "python3"
    },
    "language_info": {
      "codemirror_mode": {
        "name": "ipython",
        "version": 3
      },
      "file_extension": ".py",
      "mimetype": "text/x-python",
      "name": "python",
      "nbconvert_exporter": "python",
      "pygments_lexer": "ipython3",
      "version": "3.10.2"
    }
  },
  "nbformat": 4,
  "nbformat_minor": 0
}
