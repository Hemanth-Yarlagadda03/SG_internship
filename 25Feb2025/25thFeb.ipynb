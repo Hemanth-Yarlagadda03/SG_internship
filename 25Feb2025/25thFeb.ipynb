{
  "cells": [
    {
      "cell_type": "markdown",
      "metadata": {
        "id": "mZpKkpJgoRtu"
      },
      "source": [
        "# Context Manager\n",
        "\n"
      ]
    },
    {
      "cell_type": "code",
      "execution_count": 5,
      "metadata": {
        "id": "5c4r5rMakQC9"
      },
      "outputs": [],
      "source": [
        "def simple_file_write() -> None:\n",
        "    \"\"\"\n",
        "    Demonstrates built-in context manager for file I/O.\n",
        "    \"\"\"\n",
        "    with open(\"/content/blah.txt\", \"w\", encoding=\"utf-8\") as file:\n",
        "        file.write(\"Hello, context manager!\\n\")\n",
        "\n",
        "\n"
      ]
    },
    {
      "cell_type": "code",
      "execution_count": 11,
      "metadata": {
        "colab": {
          "base_uri": "https://localhost:8080/"
        },
        "id": "IVcasv7WqXRC",
        "outputId": "ab95456c-4323-4d5d-dc57-1ba9087dd698"
      },
      "outputs": [
        {
          "name": "stdout",
          "output_type": "stream",
          "text": [
            "init method called\n",
            "enter method called\n",
            "with statement block\n",
            "exit method called\n"
          ]
        }
      ],
      "source": [
        "# Python program creating a\n",
        "# context manager\n",
        "\n",
        "class ContextManager:\n",
        "    \"\"\"\n",
        "    Simple demonstration of a Context Manager\n",
        "    \"\"\"\n",
        "    def __init__(self) -> None:\n",
        "        print('init method called')\n",
        "\n",
        "    def __enter__(self) -> 'ContextManager':\n",
        "        print('enter method called')\n",
        "        return self\n",
        "\n",
        "    def __exit__(self, exc_type, exc_value, exc_traceback) -> None:\n",
        "        print('exit method called')\n",
        "\n",
        "\n",
        "with ContextManager() as manager:\n",
        "    print('with statement block')"
      ]
    },
    {
      "cell_type": "code",
      "execution_count": 8,
      "metadata": {
        "colab": {
          "base_uri": "https://localhost:8080/"
        },
        "id": "PAVgz0ENrAIy",
        "outputId": "7faa216d-6769-442b-de17-cd2ff67ea42c"
      },
      "outputs": [
        {
          "name": "stdout",
          "output_type": "stream",
          "text": [
            "True\n"
          ]
        }
      ],
      "source": [
        "# Python program showing file management using context manager\n",
        "from typing import Any, Optional, TextIO, Type\n",
        "\n",
        "\n",
        "class FileManager:\n",
        "    def __init__(self, filename: str, mode: str) -> None:\n",
        "        self.filename = filename\n",
        "        self.mode = mode\n",
        "        self.file: Optional[TextIO] = None\n",
        "\n",
        "    def __enter__(self) -> TextIO:\n",
        "        self.file = open(self.filename, self.mode)\n",
        "        return self.file\n",
        "\n",
        "    def __exit__(\n",
        "        self,\n",
        "        exc_type: Optional[Type[BaseException]],\n",
        "        exc_value: Optional[BaseException],\n",
        "        exc_traceback: Optional[Any]\n",
        "    ) -> None:\n",
        "        if self.file:\n",
        "            self.file.close()\n",
        "\n",
        "\n",
        "# Loading a file\n",
        "with FileManager(\"/content/blah.txt\", 'w') as f:\n",
        "    f.write('Test')\n",
        "\n",
        "print(f.closed)"
      ]
    },
    {
      "cell_type": "code",
      "execution_count": 14,
      "metadata": {
        "id": "B3zQaEB2r_8R"
      },
      "outputs": [],
      "source": [
        "# Using Contextlib and Decorator example\n",
        "import contextlib\n",
        "from typing import Generator, TextIO\n",
        "\n",
        "@contextlib.contextmanager\n",
        "def open_file(path: str, mode: str) -> Generator[TextIO, None, None]:\n",
        "    \"\"\"\n",
        "    A generator-based context manager that opens and closes a file.\n",
        "    \"\"\"\n",
        "    f = open(path, mode, encoding=\"utf-8\")\n",
        "    try:\n",
        "        yield f\n",
        "    finally:\n",
        "        f.close()\n",
        "\n",
        "def contextlib_example() -> None:\n",
        "    \"\"\"\n",
        "    Demonstrates usage of a generator-based context manager with contextlib.\n",
        "    \"\"\"\n",
        "    with open_file(\"/content/blah.txt\", \"w\") as f:\n",
        "        f.write(\"Hello from contextlib!\\n\")\n"
      ]
    },
    {
      "cell_type": "markdown",
      "metadata": {
        "id": "zpDHJ3PGtWMZ"
      },
      "source": [
        "# Decorators"
      ]
    },
    {
      "cell_type": "code",
      "execution_count": 23,
      "metadata": {
        "colab": {
          "base_uri": "https://localhost:8080/"
        },
        "id": "HyZD17LWsF-8",
        "outputId": "78e1be15-fa2b-4948-ad78-bebc81307235"
      },
      "outputs": [
        {
          "name": "stdout",
          "output_type": "stream",
          "text": [
            "Hello!\n",
            "Nice to meet you, Hemanth.\n"
          ]
        }
      ],
      "source": [
        "# Basic Decorators\n",
        "\n",
        "from typing import Callable, Any\n",
        "\n",
        "def hello_decorator(func: Callable[..., str]) -> Callable[..., str]:\n",
        "    \"\"\"\n",
        "    A decorator that prints 'Hello!' before calling the original function.\n",
        "    \"\"\"\n",
        "    def wrapper(*args: Any, **kwargs: Any) -> str:\n",
        "        print(\"Hello!\")\n",
        "        result = func(*args, **kwargs)\n",
        "        return result\n",
        "    return wrapper\n",
        "\n",
        "@hello_decorator\n",
        "def greet(name: str) -> str:\n",
        "    \"\"\"\n",
        "    Returns a greeting for the specified name.\n",
        "    \"\"\"\n",
        "    return f\"Nice to meet you, {name}.\"\n",
        "\n",
        "\n",
        "print(greet(\"Hemanth\"))\n"
      ]
    },
    {
      "cell_type": "code",
      "execution_count": 25,
      "metadata": {
        "colab": {
          "base_uri": "https://localhost:8080/"
        },
        "id": "M2A_o6kFPH3x",
        "outputId": "10f58844-d9b7-45ab-c2ca-4b79d2c16fbe"
      },
      "outputs": [
        {
          "name": "stdout",
          "output_type": "stream",
          "text": [
            "Calling add with args=(3, 4) kwargs={}\n",
            "Result: 7\n"
          ]
        }
      ],
      "source": [
        "#Logging Function calls\n",
        "\n",
        "def log_decorator(func: Callable[..., Any]) -> Callable[..., Any]:\n",
        "    \"\"\"\n",
        "    A decorator that logs the function name and arguments before execution.\n",
        "    \"\"\"\n",
        "    def wrapper(*args: Any, **kwargs: Any) -> Any:\n",
        "        print(f\"Calling {func.__name__} with args={args} kwargs={kwargs}\")\n",
        "        return func(*args, **kwargs)\n",
        "    return wrapper\n",
        "\n",
        "@log_decorator\n",
        "def add(x: int, y: int) -> int:\n",
        "    \"\"\"\n",
        "    Returns the sum\n",
        "    \"\"\"\n",
        "    return x + y\n",
        "\n",
        "\n",
        "result = add(3, 4)\n",
        "print(\"Result:\", result)\n"
      ]
    },
    {
      "cell_type": "code",
      "execution_count": 27,
      "metadata": {
        "colab": {
          "base_uri": "https://localhost:8080/"
        },
        "id": "C9jeIDL6QkVA",
        "outputId": "aee9a001-827e-4274-f840-f6f70c2e2e08"
      },
      "outputs": [
        {
          "name": "stdout",
          "output_type": "stream",
          "text": [
            "Hi!\n",
            "Hi!\n",
            "Hi!\n"
          ]
        }
      ],
      "source": [
        "# Decorator with Arguments\n",
        "\n",
        "def repeat(num_times: int) -> Callable:\n",
        "    \"\"\"\n",
        "    A decorator factory that repeats the wrapped function num_times times.\n",
        "    \"\"\"\n",
        "    def decorator(func: Callable[..., None]) -> Callable[..., None]:\n",
        "        def wrapper(*args: Any, **kwargs: Any) -> None:\n",
        "            for _ in range(num_times):\n",
        "                func(*args, **kwargs)\n",
        "        return wrapper\n",
        "    return decorator\n",
        "\n",
        "@repeat(3)\n",
        "def say_hi() -> None:\n",
        "    print(\"Hi!\")\n",
        "\n",
        "say_hi()\n",
        "\n"
      ]
    },
    {
      "cell_type": "markdown",
      "metadata": {
        "id": "AHxKr_IfRHHE"
      },
      "source": [
        "### Class Based Decorators"
      ]
    },
    {
      "cell_type": "code",
      "execution_count": 28,
      "metadata": {
        "id": "zBIaJrexROub"
      },
      "outputs": [],
      "source": [
        "class CallCounter:\n",
        "    \"\"\"\n",
        "    A class-based decorator that counts how many times a function is called.\n",
        "    \"\"\"\n",
        "\n",
        "    def __init__(self, func: Callable[..., Any]) -> None:\n",
        "        self.func = func\n",
        "        self.count = 0\n",
        "\n",
        "    def __call__(self, *args: Any, **kwargs: Any) -> Any:\n",
        "        self.count += 1\n",
        "        print(f\"[CallCounter] {self.func.__name__} called {self.count} times.\")\n",
        "        return self.func(*args, **kwargs)\n",
        "\n",
        "@CallCounter\n",
        "def greet_person(name: str) -> str:\n",
        "    return f\"Hello, {name}!\"\n",
        "\n",
        "print(greet_person(\"Hem\"))\n",
        "print(greet_person(\"Anth\"))\n",
        "print(greet_person(\"Lakshman\"))\n",
        "\n",
        "\n"
      ]
    },
    {
      "cell_type": "code",
      "execution_count": 35,
      "metadata": {
        "colab": {
          "base_uri": "https://localhost:8080/"
        },
        "id": "ybJPRSEvSVZ-",
        "outputId": "a4f5c677-50b9-4d9d-b2e2-eec0c3a2ec0b"
      },
      "outputs": [
        {
          "name": "stdout",
          "output_type": "stream",
          "text": [
            "[Count] verbose_greet = 1\n",
            "Hi, Hem!\n",
            "[Count] verbose_greet = 2\n",
            "Hi, Lak!\n",
            "Hi, Hem!\n",
            "Hi, Lak!\n"
          ]
        }
      ],
      "source": [
        "# Class Decorator with Parameters\n",
        "\n",
        "def call_counter_factory(verbose: bool = True):\n",
        "    \"\"\"\n",
        "    Factory returning a class-based decorator that can be verbose or not.\n",
        "    \"\"\"\n",
        "\n",
        "    class CallCounterFactory:\n",
        "        def __init__(self, func: Callable[..., Any]) -> None:\n",
        "            self.func = func\n",
        "            self.count = 0\n",
        "\n",
        "        def __call__(self, *args: Any, **kwargs: Any) -> Any:\n",
        "            self.count += 1\n",
        "            if verbose:\n",
        "                print(f\"[Count] {self.func.__name__} = {self.count}\")\n",
        "            return self.func(*args, **kwargs)\n",
        "\n",
        "    return CallCounterFactory\n",
        "\n",
        "@call_counter_factory(verbose=False)\n",
        "def silent_greet(name: str) -> str:\n",
        "    return f\"Hi, {name}!\"\n",
        "\n",
        "@call_counter_factory(verbose=True)\n",
        "def verbose_greet(name: str) -> str:\n",
        "    return f\"Hi, {name}!\"\n",
        "\n",
        "print(verbose_greet(\"Hem\"))\n",
        "print(verbose_greet(\"Lak\"))\n",
        "\n",
        "print(silent_greet(\"Hem\"))\n",
        "print(silent_greet(\"Lak\"))\n",
        "\n"
      ]
    },
    {
      "cell_type": "code",
      "execution_count": 37,
      "metadata": {
        "colab": {
          "base_uri": "https://localhost:8080/"
        },
        "id": "phPK0VvUTt8j",
        "outputId": "78929562-ab44-4188-8d67-c22b948ee966"
      },
      "outputs": [
        {
          "name": "stdout",
          "output_type": "stream",
          "text": [
            "HI, HEMANTH\n"
          ]
        }
      ],
      "source": [
        "# Decorating Class methods:\n",
        "def uppercase_method(func: Callable[..., str]) -> Callable[..., str]:\n",
        "    \"\"\"\n",
        "    Decorator that uppercases the return value of a method.\n",
        "    \"\"\"\n",
        "    def wrapper(*args: Any, **kwargs: Any) -> str:\n",
        "        result = func(*args, **kwargs)\n",
        "        return result.upper()\n",
        "    return wrapper\n",
        "\n",
        "class Greeter:\n",
        "    @uppercase_method\n",
        "    def say_hi(self, name: str) -> str:\n",
        "        return f\"Hi, {name}\"\n",
        "\n",
        "greeter = Greeter()\n",
        "print(greeter.say_hi(\"Hemanth\"))\n",
        "\n"
      ]
    },
    {
      "cell_type": "markdown",
      "metadata": {
        "id": "prwrpxRpVwYq"
      },
      "source": [
        "# Callable"
      ]
    },
    {
      "cell_type": "code",
      "execution_count": 41,
      "metadata": {
        "colab": {
          "base_uri": "https://localhost:8080/"
        },
        "id": "7NyjAfi8UYdm",
        "outputId": "98ea6118-0094-40ab-e73b-bcbbb4a18222"
      },
      "outputs": [
        {
          "name": "stdout",
          "output_type": "stream",
          "text": [
            "Result: 15\n"
          ]
        }
      ],
      "source": [
        "#basic callable function\n",
        "\n",
        "def add(a: int, b: int) -> int:\n",
        "    \"\"\"\n",
        "    Returns the sum of a and b.\n",
        "    \"\"\"\n",
        "    return a + b\n",
        "\n",
        "result = add(8, 7)\n",
        "print(\"Result:\", result)\n",
        "\n"
      ]
    },
    {
      "cell_type": "code",
      "execution_count": 43,
      "metadata": {
        "colab": {
          "base_uri": "https://localhost:8080/"
        },
        "id": "UI6ZpdHkdg8j",
        "outputId": "1f8d3f69-53a8-4cce-9911-ca4c5b1e4bc5"
      },
      "outputs": [
        {
          "name": "stdout",
          "output_type": "stream",
          "text": [
            "100\n",
            "True\n"
          ]
        }
      ],
      "source": [
        "# Callable Class with __call__ Method\n",
        "\n",
        "class Multiplier:\n",
        "    \"\"\"\n",
        "    A class that becomes a callable object by defining __call__.\n",
        "    \"\"\"\n",
        "\n",
        "    def __init__(self, factor: int) -> None:\n",
        "        self.factor: int = factor\n",
        "\n",
        "    def __call__(self, value: int) -> int:\n",
        "        return value * self.factor\n",
        "\n",
        "\n",
        "times_five = Multiplier(10)\n",
        "print(times_five(10))\n",
        "print(callable(times_five))\n"
      ]
    },
    {
      "cell_type": "code",
      "execution_count": 45,
      "metadata": {
        "colab": {
          "base_uri": "https://localhost:8080/"
        },
        "id": "FwN9ll_Id5dn",
        "outputId": "617d9a75-8508-423c-b729-25dbc59b32fb"
      },
      "outputs": [
        {
          "name": "stdout",
          "output_type": "stream",
          "text": [
            "15\n",
            "18\n",
            "25\n"
          ]
        }
      ],
      "source": [
        "# Callable with State\n",
        "\n",
        "class RunningTotal:\n",
        "    \"\"\"\n",
        "    Maintains a running total each time it is called.\n",
        "    \"\"\"\n",
        "\n",
        "    def __init__(self, start: int = 0) -> None:\n",
        "        self.total: int = start\n",
        "\n",
        "    def __call__(self, value: int) -> int:\n",
        "        self.total += value\n",
        "        return self.total\n",
        "\n",
        "\n",
        "accumulator = RunningTotal(10)\n",
        "print(accumulator(5))\n",
        "print(accumulator(3))\n",
        "print(accumulator(7))\n",
        "\n"
      ]
    },
    {
      "cell_type": "markdown",
      "metadata": {
        "id": "a7W_OrwbeWyz"
      },
      "source": [
        "# Closures\n"
      ]
    },
    {
      "cell_type": "code",
      "execution_count": 47,
      "metadata": {
        "colab": {
          "base_uri": "https://localhost:8080/"
        },
        "id": "92CvdGmleWek",
        "outputId": "542b0304-adf0-40ae-c9d5-e92aaf18b448"
      },
      "outputs": [
        {
          "name": "stdout",
          "output_type": "stream",
          "text": [
            "Hello, Hemanth!\n",
            "Namaste, Lakshman!\n"
          ]
        }
      ],
      "source": [
        "\n",
        "def make_greeter(greeting: str) -> Callable[[str], str]:\n",
        "    \"\"\"\n",
        "    Returns a closure that greets a name with the specified greeting.\n",
        "    \"\"\"\n",
        "    def greeter(name: str) -> str:\n",
        "        return f\"{greeting}, {name}!\"\n",
        "    return greeter\n",
        "\n",
        "hello = make_greeter(\"Hello\")\n",
        "namaste = make_greeter(\"Namaste\")\n",
        "\n",
        "print(hello(\"Hemanth\"))\n",
        "print(namaste(\"Lakshman\"))\n"
      ]
    },
    {
      "cell_type": "markdown",
      "metadata": {
        "id": "NdrZiOAzfDau"
      },
      "source": [
        "# Global Interpreter Lock"
      ]
    },
    {
      "cell_type": "code",
      "execution_count": 49,
      "metadata": {
        "colab": {
          "base_uri": "https://localhost:8080/"
        },
        "id": "TwOO_LdJe5rD",
        "outputId": "3b52d035-f214-429c-ac07-92feeb39f67b"
      },
      "outputs": [
        {
          "name": "stdout",
          "output_type": "stream",
          "text": [
            "Thread 0 starting fetch...\n",
            "Thread 1 starting fetch...\n",
            "Thread 2 starting fetch...\n",
            "Thread 3 starting fetch...\n",
            "Thread 0 finished fetch.\n",
            "Thread 1 finished fetch.\n",
            "Thread 2 finished fetch.\n",
            "Thread 3 finished fetch.\n",
            "All fetches completed.\n"
          ]
        }
      ],
      "source": [
        "\n",
        "#GIL\n",
        "\n",
        "import threading\n",
        "import time\n",
        "\n",
        "def fetch_data(index: int) -> None:\n",
        "    \"\"\"\n",
        "    Simulates an I/O-bound operation by sleeping.\n",
        "    \"\"\"\n",
        "    print(f\"Thread {index} starting fetch...\")\n",
        "    time.sleep(2)\n",
        "    print(f\"Thread {index} finished fetch.\")\n",
        "\n",
        "threads = []\n",
        "for i in range(4):\n",
        "    t = threading.Thread(target=fetch_data, args=(i,))\n",
        "    threads.append(t)\n",
        "    t.start()\n",
        "\n",
        "for t in threads:\n",
        "    t.join()\n",
        "\n",
        "print(\"All fetches completed.\")\n"
      ]
    },
    {
      "cell_type": "code",
      "execution_count": 51,
      "metadata": {
        "colab": {
          "base_uri": "https://localhost:8080/"
        },
        "id": "4ljujiTQfbA2",
        "outputId": "6e8b74a3-9be7-483b-ae4e-f9f182bcd9dc"
      },
      "outputs": [
        {
          "name": "stdout",
          "output_type": "stream",
          "text": [
            "CPU-bound tasks finished (no real parallel speedup due to GIL).\n"
          ]
        }
      ],
      "source": [
        "def cpu_intensive_task(n: int) -> int:\n",
        "    \"\"\"\n",
        "    Performs a CPU-bound calculation (summing squares up to n).\n",
        "    \"\"\"\n",
        "    total: int = 0\n",
        "    for i in range(n):\n",
        "        total += i * i\n",
        "    return total\n",
        "\n",
        "\n",
        "threads = []\n",
        "for _ in range(4):\n",
        "    t = threading.Thread(target=cpu_intensive_task, args=(5_000_000,))\n",
        "    threads.append(t)\n",
        "    t.start()\n",
        "\n",
        "for t in threads:\n",
        "    t.join()\n",
        "\n",
        "print(\"CPU-bound tasks finished (no real parallel speedup due to GIL).\")\n"
      ]
    },
    {
      "cell_type": "markdown",
      "metadata": {
        "id": "0dQiT13Xf3C0"
      },
      "source": [
        "# Garbage Collection & Reference Collection"
      ]
    },
    {
      "cell_type": "code",
      "execution_count": 53,
      "metadata": {
        "colab": {
          "base_uri": "https://localhost:8080/"
        },
        "id": "27kJBzRggUqK",
        "outputId": "ea9d04c5-f4c2-48d0-9a85-6ef06058f31c"
      },
      "outputs": [
        {
          "name": "stdout",
          "output_type": "stream",
          "text": [
            "a_list: [10]\n",
            "b_list: [10]\n"
          ]
        }
      ],
      "source": [
        "# RC\n",
        "a_list = []\n",
        "b_list = a_list # Both variables reference the same list object\n",
        "b_list.append(10)\n",
        "print(\"a_list:\", a_list)\n",
        "print(\"b_list:\", b_list)\n"
      ]
    },
    {
      "cell_type": "code",
      "execution_count": 56,
      "metadata": {
        "colab": {
          "base_uri": "https://localhost:8080/"
        },
        "id": "SWeQkOcxgqrH",
        "outputId": "ccba2bb5-aa2d-4413-f58e-0fe67ae59e21"
      },
      "outputs": [
        {
          "name": "stdout",
          "output_type": "stream",
          "text": [
            "Initial refcount: 2\n",
            "After aliasing: 3\n",
            "After del alias: 2\n"
          ]
        }
      ],
      "source": [
        "# Reference counts with Sysgetrefcount\n",
        "import sys\n",
        "\"\"\"\n",
        "Illustrates how to inspect reference counts of an object\n",
        "using sys.getrefcount.\n",
        "\"\"\"\n",
        "\n",
        "my_object = []\n",
        "print(\"Initial refcount:\", sys.getrefcount(my_object))\n",
        "# e.g., 2 -> (my_object in this scope + temporary ref in getrefcount)\n",
        "\n",
        "alias = my_object\n",
        "print(\"After aliasing:\", sys.getrefcount(my_object))\n",
        "# e.g., 3 -> (my_object, alias, + temporary)\n",
        "\n",
        "del alias\n",
        "print(\"After del alias:\", sys.getrefcount(my_object))\n",
        "# e.g., 2 -> back down to original references\n"
      ]
    },
    {
      "cell_type": "code",
      "execution_count": 58,
      "metadata": {
        "id": "Sd03CRBZiUgG"
      },
      "outputs": [],
      "source": [
        "# Cyclic refernce example\n",
        "\n",
        "class Node:\n",
        "    \"\"\"\n",
        "    A simple class that can form cycles if nodes reference each other.\n",
        "    \"\"\"\n",
        "\n",
        "    def __init__(self, name: str) -> None:\n",
        "        self.name: str = name\n",
        "        self.reference: \"Node | None\" = None\n",
        "\n",
        "def create_cycle() -> None:\n",
        "    \"\"\"\n",
        "    Demonstrates a reference cycle that Python's GC must handle.\n",
        "    \"\"\"\n",
        "    node_a = Node(\"A\")\n",
        "    node_b = Node(\"B\")\n",
        "\n",
        "    node_a.reference = node_b\n",
        "    node_b.reference = node_a\n",
        "\n",
        "    # node_a and node_b reference each other.\n",
        "    # Even if we delete node_a and node_b here, the cycle remains in memory\n",
        "    del node_a\n",
        "    del node_b\n",
        "    # Without GC, these objects' refcount won't reach 0, but Python's GC will\n",
        "    # eventually collect them as they are no longer reachable externally.\n",
        "\n",
        "create_cycle()\n"
      ]
    },
    {
      "cell_type": "code",
      "execution_count": 60,
      "metadata": {
        "colab": {
          "base_uri": "https://localhost:8080/"
        },
        "id": "G0hvpoqnivzf",
        "outputId": "859d2741-fc0a-441f-bf01-dc1c3b35f106"
      },
      "outputs": [
        {
          "name": "stdout",
          "output_type": "stream",
          "text": [
            "Garbage collector found and freed 528 objects.\n"
          ]
        }
      ],
      "source": [
        "# Manual Garbage Collection\n",
        "\n",
        "import gc\n",
        "\n",
        "def force_garbage_collection() -> None:\n",
        "    \"\"\"\n",
        "    Demonstrates manually triggering garbage collection to free cycles.\n",
        "    \"\"\"\n",
        "    create_cycle()\n",
        "    # Force a garbage collection pass\n",
        "    unreachable_objs = gc.collect()\n",
        "    print(f\"Garbage collector found and freed {unreachable_objs} objects.\")\n",
        "\n",
        "force_garbage_collection()\n"
      ]
    },
    {
      "cell_type": "code",
      "execution_count": 1,
      "metadata": {},
      "outputs": [
        {
          "data": {
            "text/plain": [
              "7"
            ]
          },
          "execution_count": 1,
          "metadata": {},
          "output_type": "execute_result"
        }
      ],
      "source": [
        "# Forced Garbage collection\n",
        "\n",
        "import gc\n",
        "\n",
        "obj1 = [1, 2, 3]\n",
        "obj2 = {\"a\": 1, \"b\": 2}\n",
        "obj3 = \"Hello, world!\"\n",
        "\n",
        "# Deleting references to objects\n",
        "del obj1\n",
        "del obj2\n",
        "del obj3\n",
        "\n",
        "# Forcing a garbage collection\n",
        "gc.collect()"
      ]
    },
    {
      "cell_type": "code",
      "execution_count": 2,
      "metadata": {},
      "outputs": [],
      "source": [
        "# Disable GC\n",
        "\n",
        "gc.disable()\n",
        "\n",
        "obj1 = [1, 2, 3]\n",
        "obj2 = {\"a\": 1, \"b\": 2}\n",
        "obj3 = \"Hello, world!\"\n",
        "\n",
        "del obj1\n",
        "del obj2\n",
        "del obj3\n",
        "\n",
        "\n"
      ]
    }
  ],
  "metadata": {
    "colab": {
      "provenance": []
    },
    "kernelspec": {
      "display_name": "Python 3",
      "name": "python3"
    },
    "language_info": {
      "codemirror_mode": {
        "name": "ipython",
        "version": 3
      },
      "file_extension": ".py",
      "mimetype": "text/x-python",
      "name": "python",
      "nbconvert_exporter": "python",
      "pygments_lexer": "ipython3",
      "version": "3.10.2"
    }
  },
  "nbformat": 4,
  "nbformat_minor": 0
}
